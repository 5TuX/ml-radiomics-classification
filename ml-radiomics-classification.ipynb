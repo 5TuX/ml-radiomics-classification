{
 "cells": [
  {
   "cell_type": "code",
   "execution_count": 1,
   "id": "6b036a7e",
   "metadata": {},
   "outputs": [
    {
     "name": "stdout",
     "output_type": "stream",
     "text": [
      "Hello, world from notebook\n"
     ]
    }
   ],
   "source": [
    "print(\"Hello, world from notebook\")"
   ]
  },
  {
   "cell_type": "code",
   "execution_count": 3,
   "id": "6ae65bb4",
   "metadata": {},
   "outputs": [
    {
     "name": "stdout",
     "output_type": "stream",
     "text": [
      "Hello, world !\n",
      "Bye\n"
     ]
    }
   ],
   "source": [
    "with open(\"data/test.txt\", \"r\") as text_file:\n",
    "    text = text_file.read()\n",
    "\n",
    "print(text)"
   ]
  },
  {
   "cell_type": "code",
   "execution_count": null,
   "id": "87d177fd",
   "metadata": {},
   "outputs": [],
   "source": []
  }
 ],
 "metadata": {
  "kernelspec": {
   "display_name": "ml-radiomics-classification",
   "language": "python",
   "name": "python3"
  },
  "language_info": {
   "codemirror_mode": {
    "name": "ipython",
    "version": 3
   },
   "file_extension": ".py",
   "mimetype": "text/x-python",
   "name": "python",
   "nbconvert_exporter": "python",
   "pygments_lexer": "ipython3",
   "version": "3.13.3"
  }
 },
 "nbformat": 4,
 "nbformat_minor": 5
}
