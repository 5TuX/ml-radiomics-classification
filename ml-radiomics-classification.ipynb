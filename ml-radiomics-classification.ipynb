{
 "cells": [
  {
   "cell_type": "code",
   "execution_count": null,
   "id": "2564091e",
   "metadata": {},
   "outputs": [],
   "source": [
    "# Installing the repository in Google Colab\n",
    "\n",
    "# # Disable cell output\n",
    "# %%capture\n",
    "\n",
    "# # Download the repository from github\n",
    "# !git clone https://github.com/5TuX/ml-radiomics-classification.git\n",
    "\n",
    "# # Set working directory\n",
    "# %cd ml-radiomics-classification\n",
    "\n",
    "# # Install dependencies with uv\n",
    "# !curl -LsSf https://astral.sh/uv/install.sh | sh\n",
    "# import os\n",
    "# os.environ[\"PATH\"] = f\"/root/.cargo/bin:{os.environ['PATH']}\"\n",
    "# !uv sync"
   ]
  },
  {
   "cell_type": "code",
   "execution_count": 1,
   "id": "2ed3a266",
   "metadata": {},
   "outputs": [],
   "source": [
    "import polars as pl"
   ]
  },
  {
   "cell_type": "code",
   "execution_count": 2,
   "id": "b208cd4f",
   "metadata": {},
   "outputs": [],
   "source": [
    "# Notebook settings\n",
    "\n",
    "settings = {\n",
    "    \"dataset-path\": \"data/Radiomics_binWidth-15_ZScore_NETnNCR_T1CE.csv\",\n",
    "}"
   ]
  },
  {
   "cell_type": "code",
   "execution_count": 3,
   "id": "20253ca4",
   "metadata": {},
   "outputs": [],
   "source": [
    "df = pl.read_csv(settings[\"dataset-path\"])"
   ]
  },
  {
   "cell_type": "code",
   "execution_count": 4,
   "id": "9b0ea026",
   "metadata": {},
   "outputs": [
    {
     "name": "stdout",
     "output_type": "stream",
     "text": [
      "shape: (369, 1_720)\n",
      "┌────────────┬───────┬────────────┬────────────┬───┬───────────┬───────────┬───────────┬───────────┐\n",
      "│ Patient_ID ┆ Group ┆ Group_labe ┆ binWidth   ┆ … ┆ wavelet-L ┆ wavelet-L ┆ wavelet-L ┆ wavelet-L │\n",
      "│ ---        ┆ ---   ┆ l          ┆ ---        ┆   ┆ LL_ngtdm_ ┆ LL_ngtdm_ ┆ LL_ngtdm_ ┆ LL_ngtdm_ │\n",
      "│ str        ┆ str   ┆ ---        ┆ str        ┆   ┆ Coarsenes ┆ Complexit ┆ Contrast  ┆ Strength  │\n",
      "│            ┆       ┆ i64        ┆            ┆   ┆ s         ┆ y         ┆ ---       ┆ ---       │\n",
      "│            ┆       ┆            ┆            ┆   ┆ ---       ┆ ---       ┆ f64       ┆ f64       │\n",
      "│            ┆       ┆            ┆            ┆   ┆ f64       ┆ f64       ┆           ┆           │\n",
      "╞════════════╪═══════╪════════════╪════════════╪═══╪═══════════╪═══════════╪═══════════╪═══════════╡\n",
      "│ BraTS20_Tr ┆ HGG   ┆ 1          ┆ binWidth-1 ┆ … ┆ 1e6       ┆ 0.0       ┆ 0.0       ┆ 0.0       │\n",
      "│ aining_001 ┆       ┆            ┆ 5          ┆   ┆           ┆           ┆           ┆           │\n",
      "│ BraTS20_Tr ┆ HGG   ┆ 1          ┆ binWidth-1 ┆ … ┆ 1e6       ┆ 0.0       ┆ 0.0       ┆ 0.0       │\n",
      "│ aining_002 ┆       ┆            ┆ 5          ┆   ┆           ┆           ┆           ┆           │\n",
      "│ BraTS20_Tr ┆ HGG   ┆ 1          ┆ binWidth-1 ┆ … ┆ 1e6       ┆ 0.0       ┆ 0.0       ┆ 0.0       │\n",
      "│ aining_003 ┆       ┆            ┆ 5          ┆   ┆           ┆           ┆           ┆           │\n",
      "│ BraTS20_Tr ┆ HGG   ┆ 1          ┆ binWidth-1 ┆ … ┆ 1e6       ┆ 0.0       ┆ 0.0       ┆ 0.0       │\n",
      "│ aining_004 ┆       ┆            ┆ 5          ┆   ┆           ┆           ┆           ┆           │\n",
      "│ BraTS20_Tr ┆ HGG   ┆ 1          ┆ binWidth-1 ┆ … ┆ 0.220302  ┆ 0.002505  ┆ 0.000012  ┆ 0.153538  │\n",
      "│ aining_005 ┆       ┆            ┆ 5          ┆   ┆           ┆           ┆           ┆           │\n",
      "│ …          ┆ …     ┆ …          ┆ …          ┆ … ┆ …         ┆ …         ┆ …         ┆ …         │\n",
      "│ BraTS20_Tr ┆ HGG   ┆ 1          ┆ binWidth-1 ┆ … ┆ 1e6       ┆ 0.0       ┆ 0.0       ┆ 0.0       │\n",
      "│ aining_365 ┆       ┆            ┆ 5          ┆   ┆           ┆           ┆           ┆           │\n",
      "│ BraTS20_Tr ┆ HGG   ┆ 1          ┆ binWidth-1 ┆ … ┆ 1e6       ┆ 0.0       ┆ 0.0       ┆ 0.0       │\n",
      "│ aining_366 ┆       ┆            ┆ 5          ┆   ┆           ┆           ┆           ┆           │\n",
      "│ BraTS20_Tr ┆ HGG   ┆ 1          ┆ binWidth-1 ┆ … ┆ 1e6       ┆ 0.0       ┆ 0.0       ┆ 0.0       │\n",
      "│ aining_367 ┆       ┆            ┆ 5          ┆   ┆           ┆           ┆           ┆           │\n",
      "│ BraTS20_Tr ┆ HGG   ┆ 1          ┆ binWidth-1 ┆ … ┆ 1e6       ┆ 0.0       ┆ 0.0       ┆ 0.0       │\n",
      "│ aining_368 ┆       ┆            ┆ 5          ┆   ┆           ┆           ┆           ┆           │\n",
      "│ BraTS20_Tr ┆ HGG   ┆ 1          ┆ binWidth-1 ┆ … ┆ 1e6       ┆ 0.0       ┆ 0.0       ┆ 0.0       │\n",
      "│ aining_369 ┆       ┆            ┆ 5          ┆   ┆           ┆           ┆           ┆           │\n",
      "└────────────┴───────┴────────────┴────────────┴───┴───────────┴───────────┴───────────┴───────────┘\n"
     ]
    }
   ],
   "source": [
    "print(df)"
   ]
  },
  {
   "cell_type": "code",
   "execution_count": null,
   "id": "9110ca80",
   "metadata": {},
   "outputs": [],
   "source": []
  }
 ],
 "metadata": {
  "kernelspec": {
   "display_name": "ml-radiomics-classification",
   "language": "python",
   "name": "python3"
  },
  "language_info": {
   "codemirror_mode": {
    "name": "ipython",
    "version": 3
   },
   "file_extension": ".py",
   "mimetype": "text/x-python",
   "name": "python",
   "nbconvert_exporter": "python",
   "pygments_lexer": "ipython3",
   "version": "3.13.3"
  }
 },
 "nbformat": 4,
 "nbformat_minor": 5
}
