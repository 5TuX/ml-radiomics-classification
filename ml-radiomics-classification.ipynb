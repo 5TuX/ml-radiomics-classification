{
 "cells": [
  {
   "cell_type": "markdown",
   "id": "b9fc2413",
   "metadata": {},
   "source": [
    "### Todo\n",
    "\n",
    "- Add text, titles, sections etc.\n",
    "- Add reference to paper and IRM image for context\n",
    "- A bit more data exploration\n",
    "- Handle categorical attribute\n",
    "- Mention at the end: \n",
    "    - Feature selection (e.g. MRMR)\n",
    "    - Model selection (e.g. pycaret)\n",
    "    - Model finetuning (e.g. optuna)"
   ]
  },
  {
   "cell_type": "code",
   "execution_count": 57,
   "id": "2564091e",
   "metadata": {},
   "outputs": [],
   "source": [
    "# Installing the repository in Google Colab\n",
    "\n",
    "# # Disable cell output\n",
    "# %%capture\n",
    "\n",
    "# # Download the repository from github\n",
    "# !git clone https://github.com/5TuX/ml-radiomics-classification.git\n",
    "\n",
    "# # Set working directory\n",
    "# %cd ml-radiomics-classification\n",
    "\n",
    "# # Install dependencies with uv\n",
    "# !curl -LsSf https://astral.sh/uv/install.sh | sh\n",
    "# import os\n",
    "# os.environ[\"PATH\"] = f\"/root/.cargo/bin:{os.environ['PATH']}\"\n",
    "# !uv sync"
   ]
  },
  {
   "cell_type": "code",
   "execution_count": 58,
   "id": "2ed3a266",
   "metadata": {},
   "outputs": [],
   "source": [
    "# Imports\n",
    "\n",
    "import polars as pl\n",
    "from itertools import groupby\n",
    "from sklearn.model_selection import train_test_split\n",
    "from sklearn.preprocessing import StandardScaler"
   ]
  },
  {
   "cell_type": "markdown",
   "id": "04f9feb0",
   "metadata": {},
   "source": [
    "Notebook settings:"
   ]
  },
  {
   "cell_type": "code",
   "execution_count": 59,
   "id": "b208cd4f",
   "metadata": {},
   "outputs": [],
   "source": [
    "settings = {\n",
    "    \"dataset-path\": \"data/Radiomics_binWidth-15_ZScore_NETnNCR_T1CE.csv\",\n",
    "}"
   ]
  },
  {
   "cell_type": "markdown",
   "id": "1674bbc8",
   "metadata": {},
   "source": [
    "Load the data:"
   ]
  },
  {
   "cell_type": "code",
   "execution_count": 60,
   "id": "20253ca4",
   "metadata": {},
   "outputs": [
    {
     "name": "stdout",
     "output_type": "stream",
     "text": [
      "Dataset shape: (369, 1720)\n"
     ]
    }
   ],
   "source": [
    "df = pl.read_csv(settings[\"dataset-path\"])\n",
    "print(\"Dataset shape:\", df.shape)"
   ]
  },
  {
   "cell_type": "markdown",
   "id": "97f9b7c1",
   "metadata": {},
   "source": [
    "Look at a few examples:"
   ]
  },
  {
   "cell_type": "code",
   "execution_count": 61,
   "id": "5d521e3f",
   "metadata": {},
   "outputs": [
    {
     "data": {
      "text/html": [
       "<div><style>\n",
       ".dataframe > thead > tr,\n",
       ".dataframe > tbody > tr {\n",
       "  text-align: right;\n",
       "  white-space: pre-wrap;\n",
       "}\n",
       "</style>\n",
       "<small>shape: (5, 1_720)</small><table border=\"1\" class=\"dataframe\"><thead><tr><th>Patient_ID</th><th>Group</th><th>Group_label</th><th>binWidth</th><th>Normalization</th><th>Age</th><th>Survival_days</th><th>Extent_of_Resection</th><th>Subregion</th><th>Sequence</th><th>diagnostics_Versions_PyRadiomics</th><th>diagnostics_Versions_Numpy</th><th>diagnostics_Versions_SimpleITK</th><th>diagnostics_Versions_PyWavelet</th><th>diagnostics_Versions_Python</th><th>diagnostics_Configuration_Settings</th><th>diagnostics_Configuration_EnabledImageTypes</th><th>diagnostics_Image-original_Hash</th><th>diagnostics_Image-original_Dimensionality</th><th>diagnostics_Image-original_Spacing</th><th>diagnostics_Image-original_Size</th><th>diagnostics_Image-original_Mean</th><th>diagnostics_Image-original_Minimum</th><th>diagnostics_Image-original_Maximum</th><th>diagnostics_Mask-original_Hash</th><th>diagnostics_Mask-original_Spacing</th><th>diagnostics_Mask-original_Size</th><th>diagnostics_Mask-original_BoundingBox</th><th>diagnostics_Mask-original_VoxelNum</th><th>diagnostics_Mask-original_VolumeNum</th><th>diagnostics_Mask-original_CenterOfMassIndex</th><th>diagnostics_Mask-original_CenterOfMass</th><th>original_shape_Elongation</th><th>original_shape_Flatness</th><th>original_shape_LeastAxisLength</th><th>original_shape_MajorAxisLength</th><th>original_shape_Maximum2DDiameterColumn</th><th>&hellip;</th><th>wavelet-LLL_glrlm_GrayLevelNonUniformity</th><th>wavelet-LLL_glrlm_GrayLevelNonUniformityNormalized</th><th>wavelet-LLL_glrlm_GrayLevelVariance</th><th>wavelet-LLL_glrlm_HighGrayLevelRunEmphasis</th><th>wavelet-LLL_glrlm_LongRunEmphasis</th><th>wavelet-LLL_glrlm_LongRunHighGrayLevelEmphasis</th><th>wavelet-LLL_glrlm_LongRunLowGrayLevelEmphasis</th><th>wavelet-LLL_glrlm_LowGrayLevelRunEmphasis</th><th>wavelet-LLL_glrlm_RunEntropy</th><th>wavelet-LLL_glrlm_RunLengthNonUniformity</th><th>wavelet-LLL_glrlm_RunLengthNonUniformityNormalized</th><th>wavelet-LLL_glrlm_RunPercentage</th><th>wavelet-LLL_glrlm_RunVariance</th><th>wavelet-LLL_glrlm_ShortRunEmphasis</th><th>wavelet-LLL_glrlm_ShortRunHighGrayLevelEmphasis</th><th>wavelet-LLL_glrlm_ShortRunLowGrayLevelEmphasis</th><th>wavelet-LLL_glszm_GrayLevelNonUniformity</th><th>wavelet-LLL_glszm_GrayLevelNonUniformityNormalized</th><th>wavelet-LLL_glszm_GrayLevelVariance</th><th>wavelet-LLL_glszm_HighGrayLevelZoneEmphasis</th><th>wavelet-LLL_glszm_LargeAreaEmphasis</th><th>wavelet-LLL_glszm_LargeAreaHighGrayLevelEmphasis</th><th>wavelet-LLL_glszm_LargeAreaLowGrayLevelEmphasis</th><th>wavelet-LLL_glszm_LowGrayLevelZoneEmphasis</th><th>wavelet-LLL_glszm_SizeZoneNonUniformity</th><th>wavelet-LLL_glszm_SizeZoneNonUniformityNormalized</th><th>wavelet-LLL_glszm_SmallAreaEmphasis</th><th>wavelet-LLL_glszm_SmallAreaHighGrayLevelEmphasis</th><th>wavelet-LLL_glszm_SmallAreaLowGrayLevelEmphasis</th><th>wavelet-LLL_glszm_ZoneEntropy</th><th>wavelet-LLL_glszm_ZonePercentage</th><th>wavelet-LLL_glszm_ZoneVariance</th><th>wavelet-LLL_ngtdm_Busyness</th><th>wavelet-LLL_ngtdm_Coarseness</th><th>wavelet-LLL_ngtdm_Complexity</th><th>wavelet-LLL_ngtdm_Contrast</th><th>wavelet-LLL_ngtdm_Strength</th></tr><tr><td>str</td><td>str</td><td>i64</td><td>str</td><td>str</td><td>f64</td><td>str</td><td>str</td><td>str</td><td>str</td><td>str</td><td>str</td><td>str</td><td>str</td><td>str</td><td>str</td><td>str</td><td>str</td><td>str</td><td>str</td><td>str</td><td>f64</td><td>f64</td><td>f64</td><td>str</td><td>str</td><td>str</td><td>str</td><td>f64</td><td>f64</td><td>str</td><td>str</td><td>f64</td><td>f64</td><td>f64</td><td>f64</td><td>f64</td><td>&hellip;</td><td>f64</td><td>f64</td><td>f64</td><td>f64</td><td>f64</td><td>f64</td><td>f64</td><td>f64</td><td>f64</td><td>f64</td><td>f64</td><td>f64</td><td>f64</td><td>f64</td><td>f64</td><td>f64</td><td>f64</td><td>f64</td><td>f64</td><td>f64</td><td>f64</td><td>f64</td><td>f64</td><td>f64</td><td>f64</td><td>f64</td><td>f64</td><td>f64</td><td>f64</td><td>f64</td><td>f64</td><td>f64</td><td>f64</td><td>f64</td><td>f64</td><td>f64</td><td>f64</td></tr></thead><tbody><tr><td>&quot;BraTS20_Training_001&quot;</td><td>&quot;HGG&quot;</td><td>1</td><td>&quot;binWidth-15&quot;</td><td>&quot;ZScore&quot;</td><td>60.463</td><td>&quot;289&quot;</td><td>&quot;GTR&quot;</td><td>&quot;NETnNCR&quot;</td><td>&quot;T1CE&quot;</td><td>&quot;v3.0.1&quot;</td><td>&quot;1.20.3&quot;</td><td>&quot;2.1.1&quot;</td><td>&quot;1.1.1&quot;</td><td>&quot;3.9.7&quot;</td><td>&quot;{&#x27;minimumROIDimensions&#x27;: 2, &#x27;m…</td><td>&quot;{&#x27;Original&#x27;: {}, &#x27;Exponential&#x27;…</td><td>&quot;fcf31c6f56b4067eb28299303a0674…</td><td>&quot;3D&quot;</td><td>&quot;(1.0, 1.0, 1.0)&quot;</td><td>&quot;(240, 240, 155)&quot;</td><td>-6.4336e-16</td><td>-0.404772</td><td>11.492377</td><td>&quot;f3599f6c7ce9538e47d18beaef7292…</td><td>&quot;(1.0, 1.0, 1.0)&quot;</td><td>&quot;(240, 240, 155)&quot;</td><td>&quot;(70, 102, 41, 50, 56, 37)&quot;</td><td>15443.0</td><td>34.0</td><td>&quot;(89.23389237842387, 122.326749…</td><td>&quot;(89.23389237842387, 122.326749…</td><td>0.731829</td><td>0.41979</td><td>21.139285</td><td>50.356792</td><td>50.358713</td><td>&hellip;</td><td>2837.692308</td><td>1.0</td><td>0.0</td><td>1.0</td><td>56.108317</td><td>56.108317</td><td>56.108317</td><td>1.0</td><td>3.683174</td><td>314.441224</td><td>0.108017</td><td>0.183753</td><td>23.691856</td><td>0.28482</td><td>0.28482</td><td>0.28482</td><td>34.0</td><td>1.0</td><td>0.0</td><td>1.0</td><td>6.3840e6</td><td>6.3840e6</td><td>6.3840e6</td><td>1.0</td><td>5.470588</td><td>0.1609</td><td>0.379267</td><td>0.379267</td><td>0.379267</td><td>3.133984</td><td>0.002202</td><td>6.1777e6</td><td>0.0</td><td>1e6</td><td>0.0</td><td>0.0</td><td>0.0</td></tr><tr><td>&quot;BraTS20_Training_002&quot;</td><td>&quot;HGG&quot;</td><td>1</td><td>&quot;binWidth-15&quot;</td><td>&quot;ZScore&quot;</td><td>52.263</td><td>&quot;616&quot;</td><td>&quot;GTR&quot;</td><td>&quot;NETnNCR&quot;</td><td>&quot;T1CE&quot;</td><td>&quot;v3.0.1&quot;</td><td>&quot;1.20.3&quot;</td><td>&quot;2.1.1&quot;</td><td>&quot;1.1.1&quot;</td><td>&quot;3.9.7&quot;</td><td>&quot;{&#x27;minimumROIDimensions&#x27;: 2, &#x27;m…</td><td>&quot;{&#x27;Original&#x27;: {}, &#x27;Exponential&#x27;…</td><td>&quot;58a926796869be2fcbfafa87f1e2d3…</td><td>&quot;3D&quot;</td><td>&quot;(1.0, 1.0, 1.0)&quot;</td><td>&quot;(240, 240, 155)&quot;</td><td>7.7498e-16</td><td>-0.438949</td><td>8.906679</td><td>&quot;f6ef775f5d12edcb4e8926782d7773…</td><td>&quot;(1.0, 1.0, 1.0)&quot;</td><td>&quot;(240, 240, 155)&quot;</td><td>&quot;(67, 86, 37, 28, 32, 34)&quot;</td><td>9160.0</td><td>9.0</td><td>&quot;(77.61626637554585, 101.946397…</td><td>&quot;(77.61626637554585, 101.946397…</td><td>0.805201</td><td>0.596898</td><td>17.919111</td><td>30.020387</td><td>34.132096</td><td>&hellip;</td><td>931.230769</td><td>1.0</td><td>0.0</td><td>1.0</td><td>148.738015</td><td>148.738015</td><td>148.738015</td><td>1.0</td><td>4.063811</td><td>65.188726</td><td>0.068125</td><td>0.101663</td><td>37.847387</td><td>0.148596</td><td>0.148596</td><td>0.148596</td><td>9.0</td><td>1.0</td><td>0.0</td><td>1.0</td><td>9.1449e6</td><td>9.1449e6</td><td>9.1449e6</td><td>1.0</td><td>1.0</td><td>0.111111</td><td>0.155282</td><td>0.155282</td><td>0.155282</td><td>3.169925</td><td>0.000983</td><td>8.1090e6</td><td>0.0</td><td>1e6</td><td>0.0</td><td>0.0</td><td>0.0</td></tr><tr><td>&quot;BraTS20_Training_003&quot;</td><td>&quot;HGG&quot;</td><td>1</td><td>&quot;binWidth-15&quot;</td><td>&quot;ZScore&quot;</td><td>54.301</td><td>&quot;464&quot;</td><td>&quot;GTR&quot;</td><td>&quot;NETnNCR&quot;</td><td>&quot;T1CE&quot;</td><td>&quot;v3.0.1&quot;</td><td>&quot;1.20.3&quot;</td><td>&quot;2.1.1&quot;</td><td>&quot;1.1.1&quot;</td><td>&quot;3.9.7&quot;</td><td>&quot;{&#x27;minimumROIDimensions&#x27;: 2, &#x27;m…</td><td>&quot;{&#x27;Original&#x27;: {}, &#x27;Exponential&#x27;…</td><td>&quot;923aabc1a6c23ad6accc67bcd26fe1…</td><td>&quot;3D&quot;</td><td>&quot;(1.0, 1.0, 1.0)&quot;</td><td>&quot;(240, 240, 155)&quot;</td><td>2.7571e-16</td><td>-0.389427</td><td>11.927897</td><td>&quot;27f9116fc7420ab3c6eedf267830db…</td><td>&quot;(1.0, 1.0, 1.0)&quot;</td><td>&quot;(240, 240, 155)&quot;</td><td>&quot;(160, 149, 61, 16, 19, 18)&quot;</td><td>733.0</td><td>7.0</td><td>&quot;(168.64529331514325, 158.99317…</td><td>&quot;(168.64529331514325, 158.99317…</td><td>0.768372</td><td>0.722447</td><td>11.550058</td><td>15.987407</td><td>18.681542</td><td>&hellip;</td><td>291.153846</td><td>1.0</td><td>0.0</td><td>1.0</td><td>10.77577</td><td>10.77577</td><td>10.77577</td><td>1.0</td><td>2.387787</td><td>77.714144</td><td>0.259495</td><td>0.397209</td><td>3.934461</td><td>0.500213</td><td>0.500213</td><td>0.500213</td><td>7.0</td><td>1.0</td><td>0.0</td><td>1.0</td><td>62367.571429</td><td>62367.571429</td><td>62367.571429</td><td>1.0</td><td>1.285714</td><td>0.183673</td><td>0.298127</td><td>0.298127</td><td>0.298127</td><td>2.521641</td><td>0.00955</td><td>51402.489796</td><td>0.0</td><td>1e6</td><td>0.0</td><td>0.0</td><td>0.0</td></tr><tr><td>&quot;BraTS20_Training_004&quot;</td><td>&quot;HGG&quot;</td><td>1</td><td>&quot;binWidth-15&quot;</td><td>&quot;ZScore&quot;</td><td>39.068</td><td>&quot;788&quot;</td><td>&quot;GTR&quot;</td><td>&quot;NETnNCR&quot;</td><td>&quot;T1CE&quot;</td><td>&quot;v3.0.1&quot;</td><td>&quot;1.20.3&quot;</td><td>&quot;2.1.1&quot;</td><td>&quot;1.1.1&quot;</td><td>&quot;3.9.7&quot;</td><td>&quot;{&#x27;minimumROIDimensions&#x27;: 2, &#x27;m…</td><td>&quot;{&#x27;Original&#x27;: {}, &#x27;Exponential&#x27;…</td><td>&quot;55fa7fba043c7c44a6e842b5a586a4…</td><td>&quot;3D&quot;</td><td>&quot;(1.0, 1.0, 1.0)&quot;</td><td>&quot;(240, 240, 155)&quot;</td><td>-5.9757e-16</td><td>-0.438407</td><td>11.005426</td><td>&quot;07742fbe85b3d48e3aa5ff6ad53873…</td><td>&quot;(1.0, 1.0, 1.0)&quot;</td><td>&quot;(240, 240, 155)&quot;</td><td>&quot;(149, 150, 64, 31, 44, 44)&quot;</td><td>10902.0</td><td>37.0</td><td>&quot;(162.29728490185286, 169.57576…</td><td>&quot;(162.29728490185286, 169.57576…</td><td>0.880563</td><td>0.556199</td><td>21.603687</td><td>38.841633</td><td>42.720019</td><td>&hellip;</td><td>2986.769231</td><td>1.0</td><td>0.0</td><td>1.0</td><td>27.455009</td><td>27.455009</td><td>27.455009</td><td>1.0</td><td>3.051311</td><td>557.843589</td><td>0.182311</td><td>0.273965</td><td>13.085883</td><td>0.40605</td><td>0.40605</td><td>0.40605</td><td>37.0</td><td>1.0</td><td>0.0</td><td>1.0</td><td>3.0228e6</td><td>3.0228e6</td><td>3.0228e6</td><td>1.0</td><td>5.594595</td><td>0.151205</td><td>0.360428</td><td>0.360428</td><td>0.360428</td><td>3.230669</td><td>0.003394</td><td>2.9360e6</td><td>0.0</td><td>1e6</td><td>0.0</td><td>0.0</td><td>0.0</td></tr><tr><td>&quot;BraTS20_Training_005&quot;</td><td>&quot;HGG&quot;</td><td>1</td><td>&quot;binWidth-15&quot;</td><td>&quot;ZScore&quot;</td><td>68.493</td><td>&quot;465&quot;</td><td>&quot;GTR&quot;</td><td>&quot;NETnNCR&quot;</td><td>&quot;T1CE&quot;</td><td>&quot;v3.0.1&quot;</td><td>&quot;1.20.3&quot;</td><td>&quot;2.1.1&quot;</td><td>&quot;1.1.1&quot;</td><td>&quot;3.9.7&quot;</td><td>&quot;{&#x27;minimumROIDimensions&#x27;: 2, &#x27;m…</td><td>&quot;{&#x27;Original&#x27;: {}, &#x27;Exponential&#x27;…</td><td>&quot;6c94ee5878e0aca66cb21e828c50fe…</td><td>&quot;3D&quot;</td><td>&quot;(1.0, 1.0, 1.0)&quot;</td><td>&quot;(240, 240, 155)&quot;</td><td>-4.8643e-17</td><td>-0.416155</td><td>12.239193</td><td>&quot;5fec5dd1de3d85905a292c12f948d4…</td><td>&quot;(1.0, 1.0, 1.0)&quot;</td><td>&quot;(240, 240, 155)&quot;</td><td>&quot;(123, 157, 84, 52, 34, 42)&quot;</td><td>3624.0</td><td>37.0</td><td>&quot;(155.71136865342163, 172.22599…</td><td>&quot;(155.71136865342163, 172.22599…</td><td>0.342747</td><td>0.309231</td><td>20.04694</td><td>64.828365</td><td>60.60528</td><td>&hellip;</td><td>1608.791873</td><td>0.985289</td><td>0.007356</td><td>1.022234</td><td>8.446223</td><td>8.469023</td><td>8.440523</td><td>0.994442</td><td>2.250301</td><td>508.396876</td><td>0.305674</td><td>0.450458</td><td>3.256455</td><td>0.552665</td><td>0.574758</td><td>0.547142</td><td>30.148936</td><td>0.641467</td><td>0.179267</td><td>1.702128</td><td>168949.234043</td><td>168950.12766</td><td>168949.010638</td><td>0.824468</td><td>17.851064</td><td>0.37981</td><td>0.634417</td><td>1.288673</td><td>0.470853</td><td>2.825271</td><td>0.012969</td><td>163003.839746</td><td>2.292387</td><td>0.220302</td><td>0.002505</td><td>0.000012</td><td>0.153538</td></tr></tbody></table></div>"
      ],
      "text/plain": [
       "shape: (5, 1_720)\n",
       "┌────────────┬───────┬────────────┬────────────┬───┬───────────┬───────────┬───────────┬───────────┐\n",
       "│ Patient_ID ┆ Group ┆ Group_labe ┆ binWidth   ┆ … ┆ wavelet-L ┆ wavelet-L ┆ wavelet-L ┆ wavelet-L │\n",
       "│ ---        ┆ ---   ┆ l          ┆ ---        ┆   ┆ LL_ngtdm_ ┆ LL_ngtdm_ ┆ LL_ngtdm_ ┆ LL_ngtdm_ │\n",
       "│ str        ┆ str   ┆ ---        ┆ str        ┆   ┆ Coarsenes ┆ Complexit ┆ Contrast  ┆ Strength  │\n",
       "│            ┆       ┆ i64        ┆            ┆   ┆ s         ┆ y         ┆ ---       ┆ ---       │\n",
       "│            ┆       ┆            ┆            ┆   ┆ ---       ┆ ---       ┆ f64       ┆ f64       │\n",
       "│            ┆       ┆            ┆            ┆   ┆ f64       ┆ f64       ┆           ┆           │\n",
       "╞════════════╪═══════╪════════════╪════════════╪═══╪═══════════╪═══════════╪═══════════╪═══════════╡\n",
       "│ BraTS20_Tr ┆ HGG   ┆ 1          ┆ binWidth-1 ┆ … ┆ 1e6       ┆ 0.0       ┆ 0.0       ┆ 0.0       │\n",
       "│ aining_001 ┆       ┆            ┆ 5          ┆   ┆           ┆           ┆           ┆           │\n",
       "│ BraTS20_Tr ┆ HGG   ┆ 1          ┆ binWidth-1 ┆ … ┆ 1e6       ┆ 0.0       ┆ 0.0       ┆ 0.0       │\n",
       "│ aining_002 ┆       ┆            ┆ 5          ┆   ┆           ┆           ┆           ┆           │\n",
       "│ BraTS20_Tr ┆ HGG   ┆ 1          ┆ binWidth-1 ┆ … ┆ 1e6       ┆ 0.0       ┆ 0.0       ┆ 0.0       │\n",
       "│ aining_003 ┆       ┆            ┆ 5          ┆   ┆           ┆           ┆           ┆           │\n",
       "│ BraTS20_Tr ┆ HGG   ┆ 1          ┆ binWidth-1 ┆ … ┆ 1e6       ┆ 0.0       ┆ 0.0       ┆ 0.0       │\n",
       "│ aining_004 ┆       ┆            ┆ 5          ┆   ┆           ┆           ┆           ┆           │\n",
       "│ BraTS20_Tr ┆ HGG   ┆ 1          ┆ binWidth-1 ┆ … ┆ 0.220302  ┆ 0.002505  ┆ 0.000012  ┆ 0.153538  │\n",
       "│ aining_005 ┆       ┆            ┆ 5          ┆   ┆           ┆           ┆           ┆           │\n",
       "└────────────┴───────┴────────────┴────────────┴───┴───────────┴───────────┴───────────┴───────────┘"
      ]
     },
     "execution_count": 61,
     "metadata": {},
     "output_type": "execute_result"
    }
   ],
   "source": [
    "df.head()"
   ]
  },
  {
   "cell_type": "markdown",
   "id": "f872b20a",
   "metadata": {},
   "source": [
    "Look at basic statistics:"
   ]
  },
  {
   "cell_type": "code",
   "execution_count": 62,
   "id": "6551cf5d",
   "metadata": {},
   "outputs": [
    {
     "data": {
      "text/html": [
       "<div><style>\n",
       ".dataframe > thead > tr,\n",
       ".dataframe > tbody > tr {\n",
       "  text-align: right;\n",
       "  white-space: pre-wrap;\n",
       "}\n",
       "</style>\n",
       "<small>shape: (9, 1_721)</small><table border=\"1\" class=\"dataframe\"><thead><tr><th>statistic</th><th>Patient_ID</th><th>Group</th><th>Group_label</th><th>binWidth</th><th>Normalization</th><th>Age</th><th>Survival_days</th><th>Extent_of_Resection</th><th>Subregion</th><th>Sequence</th><th>diagnostics_Versions_PyRadiomics</th><th>diagnostics_Versions_Numpy</th><th>diagnostics_Versions_SimpleITK</th><th>diagnostics_Versions_PyWavelet</th><th>diagnostics_Versions_Python</th><th>diagnostics_Configuration_Settings</th><th>diagnostics_Configuration_EnabledImageTypes</th><th>diagnostics_Image-original_Hash</th><th>diagnostics_Image-original_Dimensionality</th><th>diagnostics_Image-original_Spacing</th><th>diagnostics_Image-original_Size</th><th>diagnostics_Image-original_Mean</th><th>diagnostics_Image-original_Minimum</th><th>diagnostics_Image-original_Maximum</th><th>diagnostics_Mask-original_Hash</th><th>diagnostics_Mask-original_Spacing</th><th>diagnostics_Mask-original_Size</th><th>diagnostics_Mask-original_BoundingBox</th><th>diagnostics_Mask-original_VoxelNum</th><th>diagnostics_Mask-original_VolumeNum</th><th>diagnostics_Mask-original_CenterOfMassIndex</th><th>diagnostics_Mask-original_CenterOfMass</th><th>original_shape_Elongation</th><th>original_shape_Flatness</th><th>original_shape_LeastAxisLength</th><th>original_shape_MajorAxisLength</th><th>&hellip;</th><th>wavelet-LLL_glrlm_GrayLevelNonUniformity</th><th>wavelet-LLL_glrlm_GrayLevelNonUniformityNormalized</th><th>wavelet-LLL_glrlm_GrayLevelVariance</th><th>wavelet-LLL_glrlm_HighGrayLevelRunEmphasis</th><th>wavelet-LLL_glrlm_LongRunEmphasis</th><th>wavelet-LLL_glrlm_LongRunHighGrayLevelEmphasis</th><th>wavelet-LLL_glrlm_LongRunLowGrayLevelEmphasis</th><th>wavelet-LLL_glrlm_LowGrayLevelRunEmphasis</th><th>wavelet-LLL_glrlm_RunEntropy</th><th>wavelet-LLL_glrlm_RunLengthNonUniformity</th><th>wavelet-LLL_glrlm_RunLengthNonUniformityNormalized</th><th>wavelet-LLL_glrlm_RunPercentage</th><th>wavelet-LLL_glrlm_RunVariance</th><th>wavelet-LLL_glrlm_ShortRunEmphasis</th><th>wavelet-LLL_glrlm_ShortRunHighGrayLevelEmphasis</th><th>wavelet-LLL_glrlm_ShortRunLowGrayLevelEmphasis</th><th>wavelet-LLL_glszm_GrayLevelNonUniformity</th><th>wavelet-LLL_glszm_GrayLevelNonUniformityNormalized</th><th>wavelet-LLL_glszm_GrayLevelVariance</th><th>wavelet-LLL_glszm_HighGrayLevelZoneEmphasis</th><th>wavelet-LLL_glszm_LargeAreaEmphasis</th><th>wavelet-LLL_glszm_LargeAreaHighGrayLevelEmphasis</th><th>wavelet-LLL_glszm_LargeAreaLowGrayLevelEmphasis</th><th>wavelet-LLL_glszm_LowGrayLevelZoneEmphasis</th><th>wavelet-LLL_glszm_SizeZoneNonUniformity</th><th>wavelet-LLL_glszm_SizeZoneNonUniformityNormalized</th><th>wavelet-LLL_glszm_SmallAreaEmphasis</th><th>wavelet-LLL_glszm_SmallAreaHighGrayLevelEmphasis</th><th>wavelet-LLL_glszm_SmallAreaLowGrayLevelEmphasis</th><th>wavelet-LLL_glszm_ZoneEntropy</th><th>wavelet-LLL_glszm_ZonePercentage</th><th>wavelet-LLL_glszm_ZoneVariance</th><th>wavelet-LLL_ngtdm_Busyness</th><th>wavelet-LLL_ngtdm_Coarseness</th><th>wavelet-LLL_ngtdm_Complexity</th><th>wavelet-LLL_ngtdm_Contrast</th><th>wavelet-LLL_ngtdm_Strength</th></tr><tr><td>str</td><td>str</td><td>str</td><td>f64</td><td>str</td><td>str</td><td>f64</td><td>str</td><td>str</td><td>str</td><td>str</td><td>str</td><td>str</td><td>str</td><td>str</td><td>str</td><td>str</td><td>str</td><td>str</td><td>str</td><td>str</td><td>str</td><td>f64</td><td>f64</td><td>f64</td><td>str</td><td>str</td><td>str</td><td>str</td><td>f64</td><td>f64</td><td>str</td><td>str</td><td>f64</td><td>f64</td><td>f64</td><td>f64</td><td>&hellip;</td><td>f64</td><td>f64</td><td>f64</td><td>f64</td><td>f64</td><td>f64</td><td>f64</td><td>f64</td><td>f64</td><td>f64</td><td>f64</td><td>f64</td><td>f64</td><td>f64</td><td>f64</td><td>f64</td><td>f64</td><td>f64</td><td>f64</td><td>f64</td><td>f64</td><td>f64</td><td>f64</td><td>f64</td><td>f64</td><td>f64</td><td>f64</td><td>f64</td><td>f64</td><td>f64</td><td>f64</td><td>f64</td><td>f64</td><td>f64</td><td>f64</td><td>f64</td><td>f64</td></tr></thead><tbody><tr><td>&quot;count&quot;</td><td>&quot;369&quot;</td><td>&quot;369&quot;</td><td>369.0</td><td>&quot;369&quot;</td><td>&quot;369&quot;</td><td>236.0</td><td>&quot;236&quot;</td><td>&quot;129&quot;</td><td>&quot;369&quot;</td><td>&quot;369&quot;</td><td>&quot;368&quot;</td><td>&quot;368&quot;</td><td>&quot;368&quot;</td><td>&quot;368&quot;</td><td>&quot;368&quot;</td><td>&quot;368&quot;</td><td>&quot;368&quot;</td><td>&quot;368&quot;</td><td>&quot;368&quot;</td><td>&quot;368&quot;</td><td>&quot;368&quot;</td><td>368.0</td><td>368.0</td><td>368.0</td><td>&quot;368&quot;</td><td>&quot;368&quot;</td><td>&quot;368&quot;</td><td>&quot;368&quot;</td><td>368.0</td><td>368.0</td><td>&quot;368&quot;</td><td>&quot;368&quot;</td><td>368.0</td><td>368.0</td><td>368.0</td><td>368.0</td><td>&hellip;</td><td>368.0</td><td>368.0</td><td>368.0</td><td>368.0</td><td>368.0</td><td>368.0</td><td>368.0</td><td>368.0</td><td>368.0</td><td>368.0</td><td>368.0</td><td>368.0</td><td>368.0</td><td>368.0</td><td>368.0</td><td>368.0</td><td>368.0</td><td>368.0</td><td>368.0</td><td>368.0</td><td>368.0</td><td>368.0</td><td>368.0</td><td>368.0</td><td>368.0</td><td>368.0</td><td>368.0</td><td>368.0</td><td>368.0</td><td>368.0</td><td>368.0</td><td>368.0</td><td>368.0</td><td>368.0</td><td>368.0</td><td>368.0</td><td>368.0</td></tr><tr><td>&quot;null_count&quot;</td><td>&quot;0&quot;</td><td>&quot;0&quot;</td><td>0.0</td><td>&quot;0&quot;</td><td>&quot;0&quot;</td><td>133.0</td><td>&quot;133&quot;</td><td>&quot;240&quot;</td><td>&quot;0&quot;</td><td>&quot;0&quot;</td><td>&quot;1&quot;</td><td>&quot;1&quot;</td><td>&quot;1&quot;</td><td>&quot;1&quot;</td><td>&quot;1&quot;</td><td>&quot;1&quot;</td><td>&quot;1&quot;</td><td>&quot;1&quot;</td><td>&quot;1&quot;</td><td>&quot;1&quot;</td><td>&quot;1&quot;</td><td>1.0</td><td>1.0</td><td>1.0</td><td>&quot;1&quot;</td><td>&quot;1&quot;</td><td>&quot;1&quot;</td><td>&quot;1&quot;</td><td>1.0</td><td>1.0</td><td>&quot;1&quot;</td><td>&quot;1&quot;</td><td>1.0</td><td>1.0</td><td>1.0</td><td>1.0</td><td>&hellip;</td><td>1.0</td><td>1.0</td><td>1.0</td><td>1.0</td><td>1.0</td><td>1.0</td><td>1.0</td><td>1.0</td><td>1.0</td><td>1.0</td><td>1.0</td><td>1.0</td><td>1.0</td><td>1.0</td><td>1.0</td><td>1.0</td><td>1.0</td><td>1.0</td><td>1.0</td><td>1.0</td><td>1.0</td><td>1.0</td><td>1.0</td><td>1.0</td><td>1.0</td><td>1.0</td><td>1.0</td><td>1.0</td><td>1.0</td><td>1.0</td><td>1.0</td><td>1.0</td><td>1.0</td><td>1.0</td><td>1.0</td><td>1.0</td><td>1.0</td></tr><tr><td>&quot;mean&quot;</td><td>null</td><td>null</td><td>0.794038</td><td>null</td><td>null</td><td>61.223203</td><td>null</td><td>null</td><td>null</td><td>null</td><td>null</td><td>null</td><td>null</td><td>null</td><td>null</td><td>null</td><td>null</td><td>null</td><td>null</td><td>null</td><td>null</td><td>-1.3152e-17</td><td>-0.419098</td><td>10.345853</td><td>null</td><td>null</td><td>null</td><td>null</td><td>22179.336957</td><td>33.103261</td><td>null</td><td>null</td><td>0.723042</td><td>0.555079</td><td>24.485618</td><td>45.730192</td><td>&hellip;</td><td>2963.677357</td><td>0.994174</td><td>0.002913</td><td>1.352574</td><td>101.552119</td><td>169.249656</td><td>84.627828</td><td>0.911909</td><td>3.333423</td><td>422.079383</td><td>0.182812</td><td>0.256798</td><td>38.762551</td><td>0.368986</td><td>0.469273</td><td>0.343959</td><td>33.113254</td><td>0.945609</td><td>0.030401</td><td>1.31665</td><td>3.7638e8</td><td>4.8846e8</td><td>3.4836e8</td><td>0.924942</td><td>9.287271</td><td>0.324657</td><td>0.428875</td><td>0.594118</td><td>0.38953</td><td>2.38682</td><td>0.009033</td><td>1.0555e8</td><td>9.729446</td><td>760869.714043</td><td>0.0013</td><td>0.000169</td><td>0.100075</td></tr><tr><td>&quot;std&quot;</td><td>null</td><td>null</td><td>0.404952</td><td>null</td><td>null</td><td>11.874114</td><td>null</td><td>null</td><td>null</td><td>null</td><td>null</td><td>null</td><td>null</td><td>null</td><td>null</td><td>null</td><td>null</td><td>null</td><td>null</td><td>null</td><td>null</td><td>4.3709e-16</td><td>0.024681</td><td>2.671905</td><td>null</td><td>null</td><td>null</td><td>null</td><td>29878.14703</td><td>35.848002</td><td>null</td><td>null</td><td>0.155188</td><td>0.147826</td><td>10.167512</td><td>19.301596</td><td>&hellip;</td><td>2666.229821</td><td>0.037481</td><td>0.018741</td><td>0.954343</td><td>144.981048</td><td>351.244154</td><td>128.949013</td><td>0.23844</td><td>1.007408</td><td>403.022144</td><td>0.133684</td><td>0.167152</td><td>49.280637</td><td>0.171601</td><td>0.335728</td><td>0.190336</td><td>35.204095</td><td>0.129886</td><td>0.082513</td><td>0.822908</td><td>2.0864e9</td><td>2.3183e9</td><td>2.0745e9</td><td>0.190537</td><td>10.806416</td><td>0.216648</td><td>0.185001</td><td>0.522212</td><td>0.186838</td><td>0.913765</td><td>0.022325</td><td>5.4160e8</td><td>120.791894</td><td>427133.013751</td><td>0.010525</td><td>0.002248</td><td>0.280222</td></tr><tr><td>&quot;min&quot;</td><td>&quot;BraTS20_Training_001&quot;</td><td>&quot;HGG&quot;</td><td>0.0</td><td>&quot;binWidth-15&quot;</td><td>&quot;ZScore&quot;</td><td>18.975</td><td>&quot;1020&quot;</td><td>&quot;GTR&quot;</td><td>&quot;NETnNCR&quot;</td><td>&quot;T1CE&quot;</td><td>&quot;v3.0.1&quot;</td><td>&quot;1.20.3&quot;</td><td>&quot;2.1.1&quot;</td><td>&quot;1.1.1&quot;</td><td>&quot;3.9.7&quot;</td><td>&quot;{&#x27;minimumROIDimensions&#x27;: 2, &#x27;m…</td><td>&quot;{&#x27;Original&#x27;: {}, &#x27;Exponential&#x27;…</td><td>&quot;00d17d31c60689868bffb781d60587…</td><td>&quot;3D&quot;</td><td>&quot;(1.0, 1.0, 1.0)&quot;</td><td>&quot;(240, 240, 155)&quot;</td><td>-1.0822e-15</td><td>-0.50596</td><td>5.281236</td><td>&quot;0025e0bf9a63fc731cbd4286d5090c…</td><td>&quot;(1.0, 1.0, 1.0)&quot;</td><td>&quot;(240, 240, 155)&quot;</td><td>&quot;(100, 122, 78, 57, 54, 40)&quot;</td><td>47.0</td><td>1.0</td><td>&quot;(100.07977976897334, 145.51592…</td><td>&quot;(100.07977976897334, 145.51592…</td><td>0.222498</td><td>0.124907</td><td>3.738339</td><td>7.287142</td><td>&hellip;</td><td>24.230769</td><td>0.51188</td><td>0.0</td><td>1.0</td><td>1.401858</td><td>1.401858</td><td>1.011264</td><td>0.249277</td><td>0.463787</td><td>10.058603</td><td>0.025891</td><td>0.042804</td><td>0.16028</td><td>0.049052</td><td>0.049052</td><td>0.021336</td><td>1.0</td><td>0.333333</td><td>0.0</td><td>1.0</td><td>46.769231</td><td>46.769231</td><td>46.769231</td><td>0.252768</td><td>1.0</td><td>0.080332</td><td>4.0048e-11</td><td>4.0048e-11</td><td>4.0048e-11</td><td>-3.2034e-16</td><td>0.000006</td><td>0.0</td><td>0.0</td><td>0.000213</td><td>0.0</td><td>0.0</td><td>0.0</td></tr><tr><td>&quot;25%&quot;</td><td>null</td><td>null</td><td>1.0</td><td>null</td><td>null</td><td>54.279</td><td>null</td><td>null</td><td>null</td><td>null</td><td>null</td><td>null</td><td>null</td><td>null</td><td>null</td><td>null</td><td>null</td><td>null</td><td>null</td><td>null</td><td>null</td><td>-3.4967e-16</td><td>-0.434824</td><td>8.488869</td><td>null</td><td>null</td><td>null</td><td>null</td><td>3916.0</td><td>8.0</td><td>null</td><td>null</td><td>0.634073</td><td>0.464006</td><td>17.272473</td><td>33.002982</td><td>&hellip;</td><td>1073.153846</td><td>1.0</td><td>0.0</td><td>1.0</td><td>17.366738</td><td>17.480936</td><td>16.36676</td><td>1.0</td><td>2.708348</td><td>139.166628</td><td>0.090103</td><td>0.13737</td><td>7.674577</td><td>0.248304</td><td>0.279907</td><td>0.189201</td><td>8.285714</td><td>1.0</td><td>0.0</td><td>1.0</td><td>461810.015625</td><td>502626.625</td><td>442701.042373</td><td>1.0</td><td>2.142857</td><td>0.194471</td><td>0.337449</td><td>0.349895</td><td>0.284439</td><td>2.034941</td><td>0.000739</td><td>202644.637755</td><td>0.0</td><td>1e6</td><td>0.0</td><td>0.0</td><td>0.0</td></tr><tr><td>&quot;50%&quot;</td><td>null</td><td>null</td><td>1.0</td><td>null</td><td>null</td><td>61.526</td><td>null</td><td>null</td><td>null</td><td>null</td><td>null</td><td>null</td><td>null</td><td>null</td><td>null</td><td>null</td><td>null</td><td>null</td><td>null</td><td>null</td><td>null</td><td>-2.6079e-17</td><td>-0.419837</td><td>9.997395</td><td>null</td><td>null</td><td>null</td><td>null</td><td>10590.0</td><td>22.0</td><td>null</td><td>null</td><td>0.745096</td><td>0.575729</td><td>23.508105</td><td>43.981132</td><td>&hellip;</td><td>2347.154719</td><td>1.0</td><td>0.0</td><td>1.0</td><td>43.578971</td><td>46.046788</td><td>37.590433</td><td>1.0</td><td>3.366516</td><td>310.531785</td><td>0.15146</td><td>0.216342</td><td>20.198637</td><td>0.362393</td><td>0.393413</td><td>0.341103</td><td>22.0</td><td>1.0</td><td>0.0</td><td>1.0</td><td>4.2532e6</td><td>4.6091e6</td><td>3.8849e6</td><td>1.0</td><td>5.625</td><td>0.273288</td><td>0.471941</td><td>0.5</td><td>0.420159</td><td>2.535858</td><td>0.00305</td><td>2.0973e6</td><td>0.0</td><td>1e6</td><td>0.0</td><td>0.0</td><td>0.0</td></tr><tr><td>&quot;75%&quot;</td><td>null</td><td>null</td><td>1.0</td><td>null</td><td>null</td><td>69.178</td><td>null</td><td>null</td><td>null</td><td>null</td><td>null</td><td>null</td><td>null</td><td>null</td><td>null</td><td>null</td><td>null</td><td>null</td><td>null</td><td>null</td><td>null</td><td>3.1513e-16</td><td>-0.404016</td><td>12.003048</td><td>null</td><td>null</td><td>null</td><td>null</td><td>25394.0</td><td>46.0</td><td>null</td><td>null</td><td>0.841307</td><td>0.662864</td><td>30.729417</td><td>55.860815</td><td>&hellip;</td><td>4221.153846</td><td>1.0</td><td>0.0</td><td>1.0</td><td>112.832558</td><td>139.451056</td><td>98.480431</td><td>1.0</td><td>4.035562</td><td>568.203129</td><td>0.232698</td><td>0.327519</td><td>49.737264</td><td>0.472026</td><td>0.540567</td><td>0.469102</td><td>44.166667</td><td>1.0</td><td>0.0</td><td>1.0</td><td>2.9597e7</td><td>4.0328e7</td><td>2.7477e7</td><td>1.0</td><td>12.322034</td><td>0.346939</td><td>0.553092</td><td>0.610795</td><td>0.530467</td><td>2.977079</td><td>0.007737</td><td>1.5137e7</td><td>0.0</td><td>1e6</td><td>0.0</td><td>0.0</td><td>0.0</td></tr><tr><td>&quot;max&quot;</td><td>&quot;BraTS20_Training_369&quot;</td><td>&quot;LGG&quot;</td><td>1.0</td><td>&quot;binWidth-15&quot;</td><td>&quot;ZScore&quot;</td><td>86.652</td><td>&quot;ALIVE (361 days later)&quot;</td><td>&quot;STR&quot;</td><td>&quot;NETnNCR&quot;</td><td>&quot;T1CE&quot;</td><td>&quot;v3.0.1&quot;</td><td>&quot;1.20.3&quot;</td><td>&quot;2.1.1&quot;</td><td>&quot;1.1.1&quot;</td><td>&quot;3.9.7&quot;</td><td>&quot;{&#x27;minimumROIDimensions&#x27;: 2, &#x27;m…</td><td>&quot;{&#x27;Original&#x27;: {}, &#x27;Exponential&#x27;…</td><td>&quot;feca6e10bcc8b3b7a9097190e4cc2c…</td><td>&quot;3D&quot;</td><td>&quot;(1.0, 1.0, 1.0)&quot;</td><td>&quot;(240, 240, 155)&quot;</td><td>1.0307e-15</td><td>-0.331704</td><td>35.951043</td><td>&quot;fdf0ff3c0badd2e8a8a0881244d27f…</td><td>&quot;(1.0, 1.0, 1.0)&quot;</td><td>&quot;(240, 240, 155)&quot;</td><td>&quot;(99, 84, 72, 44, 51, 50)&quot;</td><td>189152.0</td><td>270.0</td><td>&quot;(99.95001372906317, 88.9456828…</td><td>&quot;(99.95001372906317, 88.9456828…</td><td>0.984177</td><td>0.878147</td><td>59.587263</td><td>171.979417</td><td>&hellip;</td><td>16845.846154</td><td>1.0</td><td>0.24406</td><td>4.058931</td><td>879.823903</td><td>2593.162303</td><td>879.823903</td><td>1.0</td><td>5.492313</td><td>3019.874758</td><td>0.835281</td><td>0.898687</td><td>299.155169</td><td>0.929974</td><td>2.792085</td><td>0.929974</td><td>269.00738</td><td>1.0</td><td>0.734375</td><td>6.375</td><td>2.4970e10</td><td>2.4970e10</td><td>2.4970e10</td><td>1.0</td><td>75.723247</td><td>1.0</td><td>0.805556</td><td>3.087144</td><td>0.805556</td><td>4.384792</td><td>0.216667</td><td>7.9505e9</td><td>1937.165966</td><td>1e6</td><td>0.163813</td><td>0.037715</td><td>1.833333</td></tr></tbody></table></div>"
      ],
      "text/plain": [
       "shape: (9, 1_721)\n",
       "┌────────────┬────────────┬───────┬────────────┬───┬───────────┬───────────┬───────────┬───────────┐\n",
       "│ statistic  ┆ Patient_ID ┆ Group ┆ Group_labe ┆ … ┆ wavelet-L ┆ wavelet-L ┆ wavelet-L ┆ wavelet-L │\n",
       "│ ---        ┆ ---        ┆ ---   ┆ l          ┆   ┆ LL_ngtdm_ ┆ LL_ngtdm_ ┆ LL_ngtdm_ ┆ LL_ngtdm_ │\n",
       "│ str        ┆ str        ┆ str   ┆ ---        ┆   ┆ Coarsenes ┆ Complexit ┆ Contrast  ┆ Strength  │\n",
       "│            ┆            ┆       ┆ f64        ┆   ┆ s         ┆ y         ┆ ---       ┆ ---       │\n",
       "│            ┆            ┆       ┆            ┆   ┆ ---       ┆ ---       ┆ f64       ┆ f64       │\n",
       "│            ┆            ┆       ┆            ┆   ┆ f64       ┆ f64       ┆           ┆           │\n",
       "╞════════════╪════════════╪═══════╪════════════╪═══╪═══════════╪═══════════╪═══════════╪═══════════╡\n",
       "│ count      ┆ 369        ┆ 369   ┆ 369.0      ┆ … ┆ 368.0     ┆ 368.0     ┆ 368.0     ┆ 368.0     │\n",
       "│ null_count ┆ 0          ┆ 0     ┆ 0.0        ┆ … ┆ 1.0       ┆ 1.0       ┆ 1.0       ┆ 1.0       │\n",
       "│ mean       ┆ null       ┆ null  ┆ 0.794038   ┆ … ┆ 760869.71 ┆ 0.0013    ┆ 0.000169  ┆ 0.100075  │\n",
       "│            ┆            ┆       ┆            ┆   ┆ 4043      ┆           ┆           ┆           │\n",
       "│ std        ┆ null       ┆ null  ┆ 0.404952   ┆ … ┆ 427133.01 ┆ 0.010525  ┆ 0.002248  ┆ 0.280222  │\n",
       "│            ┆            ┆       ┆            ┆   ┆ 3751      ┆           ┆           ┆           │\n",
       "│ min        ┆ BraTS20_Tr ┆ HGG   ┆ 0.0        ┆ … ┆ 0.000213  ┆ 0.0       ┆ 0.0       ┆ 0.0       │\n",
       "│            ┆ aining_001 ┆       ┆            ┆   ┆           ┆           ┆           ┆           │\n",
       "│ 25%        ┆ null       ┆ null  ┆ 1.0        ┆ … ┆ 1e6       ┆ 0.0       ┆ 0.0       ┆ 0.0       │\n",
       "│ 50%        ┆ null       ┆ null  ┆ 1.0        ┆ … ┆ 1e6       ┆ 0.0       ┆ 0.0       ┆ 0.0       │\n",
       "│ 75%        ┆ null       ┆ null  ┆ 1.0        ┆ … ┆ 1e6       ┆ 0.0       ┆ 0.0       ┆ 0.0       │\n",
       "│ max        ┆ BraTS20_Tr ┆ LGG   ┆ 1.0        ┆ … ┆ 1e6       ┆ 0.163813  ┆ 0.037715  ┆ 1.833333  │\n",
       "│            ┆ aining_369 ┆       ┆            ┆   ┆           ┆           ┆           ┆           │\n",
       "└────────────┴────────────┴───────┴────────────┴───┴───────────┴───────────┴───────────┴───────────┘"
      ]
     },
     "execution_count": 62,
     "metadata": {},
     "output_type": "execute_result"
    }
   ],
   "source": [
    "df.describe()"
   ]
  },
  {
   "cell_type": "markdown",
   "id": "6ac4741f",
   "metadata": {},
   "source": [
    "Explore structure of column names:"
   ]
  },
  {
   "cell_type": "code",
   "execution_count": 63,
   "id": "1b5c22f8",
   "metadata": {},
   "outputs": [
    {
     "name": "stdout",
     "output_type": "stream",
     "text": [
      "1720 columns in total.\n",
      "\n",
      "Patient\n",
      "\t-> ['Patient_ID']\n",
      "Group\n",
      "\t -> [''] \n",
      "\tlabel -> [''] \n",
      "binWidth\n",
      "\t-> ['binWidth']\n",
      "Normalization\n",
      "\t-> ['Normalization']\n",
      "Age\n",
      "\t-> ['Age']\n",
      "Survival\n",
      "\t-> ['Survival_days']\n",
      "Extent\n",
      "\t-> ['Extent_of_Resection']\n",
      "Subregion\n",
      "\t-> ['Subregion']\n",
      "Sequence\n",
      "\t-> ['Sequence']\n",
      "diagnostics\n",
      "\tVersions -> ['PyRadiomics', 'Numpy', 'SimpleITK'] ... (5 total)\n",
      "\tConfiguration -> ['Settings', 'EnabledImageTypes'] \n",
      "\tImage-original -> ['Hash', 'Dimensionality', 'Spacing'] ... (7 total)\n",
      "\tMask-original -> ['Hash', 'Spacing', 'Size'] ... (8 total)\n",
      "original\n",
      "\tshape -> ['Elongation', 'Flatness', 'LeastAxisLength'] ... (14 total)\n",
      "\tfirstorder -> ['10Percentile', '90Percentile', 'Energy'] ... (18 total)\n",
      "\tglcm -> ['Autocorrelation', 'ClusterProminence', 'ClusterShade'] ... (24 total)\n",
      "\tgldm -> ['DependenceEntropy', 'DependenceNonUniformity', 'DependenceNonUniformityNormalized'] ... (14 total)\n",
      "\tglrlm -> ['GrayLevelNonUniformity', 'GrayLevelNonUniformityNormalized', 'GrayLevelVariance'] ... (16 total)\n",
      "\tglszm -> ['GrayLevelNonUniformity', 'GrayLevelNonUniformityNormalized', 'GrayLevelVariance'] ... (16 total)\n",
      "\tngtdm -> ['Busyness', 'Coarseness', 'Complexity'] ... (5 total)\n",
      "exponential\n",
      "\tfirstorder -> ['10Percentile', '90Percentile', 'Energy'] ... (18 total)\n",
      "\tglcm -> ['Autocorrelation', 'ClusterProminence', 'ClusterShade'] ... (24 total)\n",
      "\tgldm -> ['DependenceEntropy', 'DependenceNonUniformity', 'DependenceNonUniformityNormalized'] ... (14 total)\n",
      "\tglrlm -> ['GrayLevelNonUniformity', 'GrayLevelNonUniformityNormalized', 'GrayLevelVariance'] ... (16 total)\n",
      "\tglszm -> ['GrayLevelNonUniformity', 'GrayLevelNonUniformityNormalized', 'GrayLevelVariance'] ... (16 total)\n",
      "\tngtdm -> ['Busyness', 'Coarseness', 'Complexity'] ... (5 total)\n",
      "gradient\n",
      "\tfirstorder -> ['10Percentile', '90Percentile', 'Energy'] ... (18 total)\n",
      "\tglcm -> ['Autocorrelation', 'ClusterProminence', 'ClusterShade'] ... (24 total)\n",
      "\tgldm -> ['DependenceEntropy', 'DependenceNonUniformity', 'DependenceNonUniformityNormalized'] ... (14 total)\n",
      "\tglrlm -> ['GrayLevelNonUniformity', 'GrayLevelNonUniformityNormalized', 'GrayLevelVariance'] ... (16 total)\n",
      "\tglszm -> ['GrayLevelNonUniformity', 'GrayLevelNonUniformityNormalized', 'GrayLevelVariance'] ... (16 total)\n",
      "\tngtdm -> ['Busyness', 'Coarseness', 'Complexity'] ... (5 total)\n",
      "lbp-2D\n",
      "\tfirstorder -> ['10Percentile', '90Percentile', 'Energy'] ... (18 total)\n",
      "\tglcm -> ['Autocorrelation', 'ClusterProminence', 'ClusterShade'] ... (24 total)\n",
      "\tgldm -> ['DependenceEntropy', 'DependenceNonUniformity', 'DependenceNonUniformityNormalized'] ... (14 total)\n",
      "\tglrlm -> ['GrayLevelNonUniformity', 'GrayLevelNonUniformityNormalized', 'GrayLevelVariance'] ... (16 total)\n",
      "\tglszm -> ['GrayLevelNonUniformity', 'GrayLevelNonUniformityNormalized', 'GrayLevelVariance'] ... (16 total)\n",
      "\tngtdm -> ['Busyness', 'Coarseness', 'Complexity'] ... (5 total)\n",
      "lbp-3D-m1\n",
      "\tfirstorder -> ['10Percentile', '90Percentile', 'Energy'] ... (18 total)\n",
      "\tglcm -> ['Autocorrelation', 'ClusterProminence', 'ClusterShade'] ... (24 total)\n",
      "\tgldm -> ['DependenceEntropy', 'DependenceNonUniformity', 'DependenceNonUniformityNormalized'] ... (14 total)\n",
      "\tglrlm -> ['GrayLevelNonUniformity', 'GrayLevelNonUniformityNormalized', 'GrayLevelVariance'] ... (16 total)\n",
      "\tglszm -> ['GrayLevelNonUniformity', 'GrayLevelNonUniformityNormalized', 'GrayLevelVariance'] ... (16 total)\n",
      "\tngtdm -> ['Busyness', 'Coarseness', 'Complexity'] ... (5 total)\n",
      "lbp-3D-m2\n",
      "\tfirstorder -> ['10Percentile', '90Percentile', 'Energy'] ... (18 total)\n",
      "\tglcm -> ['Autocorrelation', 'ClusterProminence', 'ClusterShade'] ... (24 total)\n",
      "\tgldm -> ['DependenceEntropy', 'DependenceNonUniformity', 'DependenceNonUniformityNormalized'] ... (14 total)\n",
      "\tglrlm -> ['GrayLevelNonUniformity', 'GrayLevelNonUniformityNormalized', 'GrayLevelVariance'] ... (16 total)\n",
      "\tglszm -> ['GrayLevelNonUniformity', 'GrayLevelNonUniformityNormalized', 'GrayLevelVariance'] ... (16 total)\n",
      "\tngtdm -> ['Busyness', 'Coarseness', 'Complexity'] ... (5 total)\n",
      "lbp-3D-k\n",
      "\tfirstorder -> ['10Percentile', '90Percentile', 'Energy'] ... (18 total)\n",
      "\tglcm -> ['Autocorrelation', 'ClusterProminence', 'ClusterShade'] ... (24 total)\n",
      "\tgldm -> ['DependenceEntropy', 'DependenceNonUniformity', 'DependenceNonUniformityNormalized'] ... (14 total)\n",
      "\tglrlm -> ['GrayLevelNonUniformity', 'GrayLevelNonUniformityNormalized', 'GrayLevelVariance'] ... (16 total)\n",
      "\tglszm -> ['GrayLevelNonUniformity', 'GrayLevelNonUniformityNormalized', 'GrayLevelVariance'] ... (16 total)\n",
      "\tngtdm -> ['Busyness', 'Coarseness', 'Complexity'] ... (5 total)\n",
      "logarithm\n",
      "\tfirstorder -> ['10Percentile', '90Percentile', 'Energy'] ... (18 total)\n",
      "\tglcm -> ['Autocorrelation', 'ClusterProminence', 'ClusterShade'] ... (24 total)\n",
      "\tgldm -> ['DependenceEntropy', 'DependenceNonUniformity', 'DependenceNonUniformityNormalized'] ... (14 total)\n",
      "\tglrlm -> ['GrayLevelNonUniformity', 'GrayLevelNonUniformityNormalized', 'GrayLevelVariance'] ... (16 total)\n",
      "\tglszm -> ['GrayLevelNonUniformity', 'GrayLevelNonUniformityNormalized', 'GrayLevelVariance'] ... (16 total)\n",
      "\tngtdm -> ['Busyness', 'Coarseness', 'Complexity'] ... (5 total)\n",
      "square\n",
      "\tfirstorder -> ['10Percentile', '90Percentile', 'Energy'] ... (18 total)\n",
      "\tglcm -> ['Autocorrelation', 'ClusterProminence', 'ClusterShade'] ... (24 total)\n",
      "\tgldm -> ['DependenceEntropy', 'DependenceNonUniformity', 'DependenceNonUniformityNormalized'] ... (14 total)\n",
      "\tglrlm -> ['GrayLevelNonUniformity', 'GrayLevelNonUniformityNormalized', 'GrayLevelVariance'] ... (16 total)\n",
      "\tglszm -> ['GrayLevelNonUniformity', 'GrayLevelNonUniformityNormalized', 'GrayLevelVariance'] ... (16 total)\n",
      "\tngtdm -> ['Busyness', 'Coarseness', 'Complexity'] ... (5 total)\n",
      "squareroot\n",
      "\tfirstorder -> ['10Percentile', '90Percentile', 'Energy'] ... (18 total)\n",
      "\tglcm -> ['Autocorrelation', 'ClusterProminence', 'ClusterShade'] ... (24 total)\n",
      "\tgldm -> ['DependenceEntropy', 'DependenceNonUniformity', 'DependenceNonUniformityNormalized'] ... (14 total)\n",
      "\tglrlm -> ['GrayLevelNonUniformity', 'GrayLevelNonUniformityNormalized', 'GrayLevelVariance'] ... (16 total)\n",
      "\tglszm -> ['GrayLevelNonUniformity', 'GrayLevelNonUniformityNormalized', 'GrayLevelVariance'] ... (16 total)\n",
      "\tngtdm -> ['Busyness', 'Coarseness', 'Complexity'] ... (5 total)\n",
      "wavelet-LLH\n",
      "\tfirstorder -> ['10Percentile', '90Percentile', 'Energy'] ... (18 total)\n",
      "\tglcm -> ['Autocorrelation', 'ClusterProminence', 'ClusterShade'] ... (24 total)\n",
      "\tgldm -> ['DependenceEntropy', 'DependenceNonUniformity', 'DependenceNonUniformityNormalized'] ... (14 total)\n",
      "\tglrlm -> ['GrayLevelNonUniformity', 'GrayLevelNonUniformityNormalized', 'GrayLevelVariance'] ... (16 total)\n",
      "\tglszm -> ['GrayLevelNonUniformity', 'GrayLevelNonUniformityNormalized', 'GrayLevelVariance'] ... (16 total)\n",
      "\tngtdm -> ['Busyness', 'Coarseness', 'Complexity'] ... (5 total)\n",
      "wavelet-LHL\n",
      "\tfirstorder -> ['10Percentile', '90Percentile', 'Energy'] ... (18 total)\n",
      "\tglcm -> ['Autocorrelation', 'ClusterProminence', 'ClusterShade'] ... (24 total)\n",
      "\tgldm -> ['DependenceEntropy', 'DependenceNonUniformity', 'DependenceNonUniformityNormalized'] ... (14 total)\n",
      "\tglrlm -> ['GrayLevelNonUniformity', 'GrayLevelNonUniformityNormalized', 'GrayLevelVariance'] ... (16 total)\n",
      "\tglszm -> ['GrayLevelNonUniformity', 'GrayLevelNonUniformityNormalized', 'GrayLevelVariance'] ... (16 total)\n",
      "\tngtdm -> ['Busyness', 'Coarseness', 'Complexity'] ... (5 total)\n",
      "wavelet-LHH\n",
      "\tfirstorder -> ['10Percentile', '90Percentile', 'Energy'] ... (18 total)\n",
      "\tglcm -> ['Autocorrelation', 'ClusterProminence', 'ClusterShade'] ... (24 total)\n",
      "\tgldm -> ['DependenceEntropy', 'DependenceNonUniformity', 'DependenceNonUniformityNormalized'] ... (14 total)\n",
      "\tglrlm -> ['GrayLevelNonUniformity', 'GrayLevelNonUniformityNormalized', 'GrayLevelVariance'] ... (16 total)\n",
      "\tglszm -> ['GrayLevelNonUniformity', 'GrayLevelNonUniformityNormalized', 'GrayLevelVariance'] ... (16 total)\n",
      "\tngtdm -> ['Busyness', 'Coarseness', 'Complexity'] ... (5 total)\n",
      "wavelet-HLL\n",
      "\tfirstorder -> ['10Percentile', '90Percentile', 'Energy'] ... (18 total)\n",
      "\tglcm -> ['Autocorrelation', 'ClusterProminence', 'ClusterShade'] ... (24 total)\n",
      "\tgldm -> ['DependenceEntropy', 'DependenceNonUniformity', 'DependenceNonUniformityNormalized'] ... (14 total)\n",
      "\tglrlm -> ['GrayLevelNonUniformity', 'GrayLevelNonUniformityNormalized', 'GrayLevelVariance'] ... (16 total)\n",
      "\tglszm -> ['GrayLevelNonUniformity', 'GrayLevelNonUniformityNormalized', 'GrayLevelVariance'] ... (16 total)\n",
      "\tngtdm -> ['Busyness', 'Coarseness', 'Complexity'] ... (5 total)\n",
      "wavelet-HLH\n",
      "\tfirstorder -> ['10Percentile', '90Percentile', 'Energy'] ... (18 total)\n",
      "\tglcm -> ['Autocorrelation', 'ClusterProminence', 'ClusterShade'] ... (24 total)\n",
      "\tgldm -> ['DependenceEntropy', 'DependenceNonUniformity', 'DependenceNonUniformityNormalized'] ... (14 total)\n",
      "\tglrlm -> ['GrayLevelNonUniformity', 'GrayLevelNonUniformityNormalized', 'GrayLevelVariance'] ... (16 total)\n",
      "\tglszm -> ['GrayLevelNonUniformity', 'GrayLevelNonUniformityNormalized', 'GrayLevelVariance'] ... (16 total)\n",
      "\tngtdm -> ['Busyness', 'Coarseness', 'Complexity'] ... (5 total)\n",
      "wavelet-HHL\n",
      "\tfirstorder -> ['10Percentile', '90Percentile', 'Energy'] ... (18 total)\n",
      "\tglcm -> ['Autocorrelation', 'ClusterProminence', 'ClusterShade'] ... (24 total)\n",
      "\tgldm -> ['DependenceEntropy', 'DependenceNonUniformity', 'DependenceNonUniformityNormalized'] ... (14 total)\n",
      "\tglrlm -> ['GrayLevelNonUniformity', 'GrayLevelNonUniformityNormalized', 'GrayLevelVariance'] ... (16 total)\n",
      "\tglszm -> ['GrayLevelNonUniformity', 'GrayLevelNonUniformityNormalized', 'GrayLevelVariance'] ... (16 total)\n",
      "\tngtdm -> ['Busyness', 'Coarseness', 'Complexity'] ... (5 total)\n",
      "wavelet-HHH\n",
      "\tfirstorder -> ['10Percentile', '90Percentile', 'Energy'] ... (18 total)\n",
      "\tglcm -> ['Autocorrelation', 'ClusterProminence', 'ClusterShade'] ... (24 total)\n",
      "\tgldm -> ['DependenceEntropy', 'DependenceNonUniformity', 'DependenceNonUniformityNormalized'] ... (14 total)\n",
      "\tglrlm -> ['GrayLevelNonUniformity', 'GrayLevelNonUniformityNormalized', 'GrayLevelVariance'] ... (16 total)\n",
      "\tglszm -> ['GrayLevelNonUniformity', 'GrayLevelNonUniformityNormalized', 'GrayLevelVariance'] ... (16 total)\n",
      "\tngtdm -> ['Busyness', 'Coarseness', 'Complexity'] ... (5 total)\n",
      "wavelet-LLL\n",
      "\tfirstorder -> ['10Percentile', '90Percentile', 'Energy'] ... (18 total)\n",
      "\tglcm -> ['Autocorrelation', 'ClusterProminence', 'ClusterShade'] ... (24 total)\n",
      "\tgldm -> ['DependenceEntropy', 'DependenceNonUniformity', 'DependenceNonUniformityNormalized'] ... (14 total)\n",
      "\tglrlm -> ['GrayLevelNonUniformity', 'GrayLevelNonUniformityNormalized', 'GrayLevelVariance'] ... (16 total)\n",
      "\tglszm -> ['GrayLevelNonUniformity', 'GrayLevelNonUniformityNormalized', 'GrayLevelVariance'] ... (16 total)\n",
      "\tngtdm -> ['Busyness', 'Coarseness', 'Complexity'] ... (5 total)\n"
     ]
    }
   ],
   "source": [
    "print(f\"{len(df.columns)} columns in total.\\n\")\n",
    "\n",
    "\n",
    "def key(colname):\n",
    "    return colname.split(\"_\")[0]\n",
    "\n",
    "\n",
    "for column_group, columns in groupby(df.columns, key):\n",
    "    print(column_group)\n",
    "    columns = list(columns)\n",
    "    if len(columns) == 1:\n",
    "        print(f\"\\t-> {columns}\")\n",
    "        continue\n",
    "    columns = [colname[len(column_group) + 1 :] for colname in columns]\n",
    "    for column_subgroup, subcolumns in groupby(columns, key):\n",
    "        maxlen, suffix = 3, \"\"\n",
    "        subcolumns = [colname[len(column_subgroup) + 1 :] for colname in subcolumns]\n",
    "        if (lensubcols := len(subcolumns)) > maxlen:\n",
    "            subcolumns = subcolumns[:maxlen]\n",
    "            suffix = f\"... ({lensubcols} total)\"\n",
    "        print(f\"\\t{column_subgroup} -> {subcolumns} {suffix}\")"
   ]
  },
  {
   "cell_type": "markdown",
   "id": "a56c7e42",
   "metadata": {},
   "source": [
    "Select columns:"
   ]
  },
  {
   "cell_type": "code",
   "execution_count": 64,
   "id": "2e3e7575",
   "metadata": {},
   "outputs": [],
   "source": [
    "# Exclude metadata columns\n",
    "\n",
    "df = df.select(\n",
    "    pl.all()\n",
    "    .exclude(\n",
    "        [\n",
    "            \"Patient_ID\",\n",
    "            \"Group_label\",\n",
    "            \"binWidth\",\n",
    "            \"Normalization\",\n",
    "            \"Subregion\",\n",
    "            \"Sequence\",\n",
    "        ]\n",
    "    )\n",
    "    .exclude(\"^diagnostics_.*$\")\n",
    ")\n",
    "\n",
    "# Select inputs and targets columns\n",
    "\n",
    "# Target variables: ignore Survival_days (too many missing values)\n",
    "targets = [\"Group\"]\n",
    "# Clinical inputs: ignore Age and Extent_of_Resection (too many missing values):\n",
    "inputs_clinical = []\n",
    "# Radiomic inputs: keep only basic radiomic features and ignore the rest:\n",
    "inputs_radiomics = [col for col in df.columns if col.startswith(\"original_\")]\n",
    "df = df.select(targets + inputs_clinical + inputs_radiomics).rename(\n",
    "    {col: col[9:] for col in inputs_radiomics}\n",
    ")"
   ]
  },
  {
   "cell_type": "markdown",
   "id": "07d2fa9b",
   "metadata": {},
   "source": [
    "Handle missing values:"
   ]
  },
  {
   "cell_type": "code",
   "execution_count": 65,
   "id": "58638f29",
   "metadata": {},
   "outputs": [
    {
     "name": "stdout",
     "output_type": "stream",
     "text": [
      "Dataset shape after dropping nulls: (368, 108)\n"
     ]
    }
   ],
   "source": [
    "df = df.drop_nulls()\n",
    "print(\"Dataset shape after dropping nulls:\", df.shape)"
   ]
  },
  {
   "cell_type": "markdown",
   "id": "957fd0ab",
   "metadata": {},
   "source": [
    "Look again at a few examples and basic statistics:"
   ]
  },
  {
   "cell_type": "code",
   "execution_count": 66,
   "id": "9628e6d0",
   "metadata": {},
   "outputs": [
    {
     "data": {
      "text/html": [
       "<div><style>\n",
       ".dataframe > thead > tr,\n",
       ".dataframe > tbody > tr {\n",
       "  text-align: right;\n",
       "  white-space: pre-wrap;\n",
       "}\n",
       "</style>\n",
       "<small>shape: (5, 108)</small><table border=\"1\" class=\"dataframe\"><thead><tr><th>Group</th><th>shape_Elongation</th><th>shape_Flatness</th><th>shape_LeastAxisLength</th><th>shape_MajorAxisLength</th><th>shape_Maximum2DDiameterColumn</th><th>shape_Maximum2DDiameterRow</th><th>shape_Maximum2DDiameterSlice</th><th>shape_Maximum3DDiameter</th><th>shape_MeshVolume</th><th>shape_MinorAxisLength</th><th>shape_Sphericity</th><th>shape_SurfaceArea</th><th>shape_SurfaceVolumeRatio</th><th>shape_VoxelVolume</th><th>firstorder_10Percentile</th><th>firstorder_90Percentile</th><th>firstorder_Energy</th><th>firstorder_Entropy</th><th>firstorder_InterquartileRange</th><th>firstorder_Kurtosis</th><th>firstorder_Maximum</th><th>firstorder_MeanAbsoluteDeviation</th><th>firstorder_Mean</th><th>firstorder_Median</th><th>firstorder_Minimum</th><th>firstorder_Range</th><th>firstorder_RobustMeanAbsoluteDeviation</th><th>firstorder_RootMeanSquared</th><th>firstorder_Skewness</th><th>firstorder_TotalEnergy</th><th>firstorder_Uniformity</th><th>firstorder_Variance</th><th>glcm_Autocorrelation</th><th>glcm_ClusterProminence</th><th>glcm_ClusterShade</th><th>glcm_ClusterTendency</th><th>&hellip;</th><th>glrlm_GrayLevelNonUniformity</th><th>glrlm_GrayLevelNonUniformityNormalized</th><th>glrlm_GrayLevelVariance</th><th>glrlm_HighGrayLevelRunEmphasis</th><th>glrlm_LongRunEmphasis</th><th>glrlm_LongRunHighGrayLevelEmphasis</th><th>glrlm_LongRunLowGrayLevelEmphasis</th><th>glrlm_LowGrayLevelRunEmphasis</th><th>glrlm_RunEntropy</th><th>glrlm_RunLengthNonUniformity</th><th>glrlm_RunLengthNonUniformityNormalized</th><th>glrlm_RunPercentage</th><th>glrlm_RunVariance</th><th>glrlm_ShortRunEmphasis</th><th>glrlm_ShortRunHighGrayLevelEmphasis</th><th>glrlm_ShortRunLowGrayLevelEmphasis</th><th>glszm_GrayLevelNonUniformity</th><th>glszm_GrayLevelNonUniformityNormalized</th><th>glszm_GrayLevelVariance</th><th>glszm_HighGrayLevelZoneEmphasis</th><th>glszm_LargeAreaEmphasis</th><th>glszm_LargeAreaHighGrayLevelEmphasis</th><th>glszm_LargeAreaLowGrayLevelEmphasis</th><th>glszm_LowGrayLevelZoneEmphasis</th><th>glszm_SizeZoneNonUniformity</th><th>glszm_SizeZoneNonUniformityNormalized</th><th>glszm_SmallAreaEmphasis</th><th>glszm_SmallAreaHighGrayLevelEmphasis</th><th>glszm_SmallAreaLowGrayLevelEmphasis</th><th>glszm_ZoneEntropy</th><th>glszm_ZonePercentage</th><th>glszm_ZoneVariance</th><th>ngtdm_Busyness</th><th>ngtdm_Coarseness</th><th>ngtdm_Complexity</th><th>ngtdm_Contrast</th><th>ngtdm_Strength</th></tr><tr><td>str</td><td>f64</td><td>f64</td><td>f64</td><td>f64</td><td>f64</td><td>f64</td><td>f64</td><td>f64</td><td>f64</td><td>f64</td><td>f64</td><td>f64</td><td>f64</td><td>f64</td><td>f64</td><td>f64</td><td>f64</td><td>f64</td><td>f64</td><td>f64</td><td>f64</td><td>f64</td><td>f64</td><td>f64</td><td>f64</td><td>f64</td><td>f64</td><td>f64</td><td>f64</td><td>f64</td><td>f64</td><td>f64</td><td>f64</td><td>f64</td><td>f64</td><td>f64</td><td>&hellip;</td><td>f64</td><td>f64</td><td>f64</td><td>f64</td><td>f64</td><td>f64</td><td>f64</td><td>f64</td><td>f64</td><td>f64</td><td>f64</td><td>f64</td><td>f64</td><td>f64</td><td>f64</td><td>f64</td><td>f64</td><td>f64</td><td>f64</td><td>f64</td><td>f64</td><td>f64</td><td>f64</td><td>f64</td><td>f64</td><td>f64</td><td>f64</td><td>f64</td><td>f64</td><td>f64</td><td>f64</td><td>f64</td><td>f64</td><td>f64</td><td>f64</td><td>f64</td><td>f64</td></tr></thead><tbody><tr><td>&quot;HGG&quot;</td><td>0.731829</td><td>0.41979</td><td>21.139285</td><td>50.356792</td><td>50.358713</td><td>59.539903</td><td>50.990195</td><td>63.85922</td><td>15226.333333</td><td>36.852581</td><td>0.333812</td><td>8899.775397</td><td>0.584499</td><td>15443.0</td><td>0.891341</td><td>2.406696</td><td>43805.647206</td><td>0.000994</td><td>0.76735</td><td>3.905945</td><td>4.857057</td><td>0.476079</td><td>1.57019</td><td>1.471689</td><td>-0.037217</td><td>4.894274</td><td>0.322622</td><td>1.684222</td><td>0.845454</td><td>43805.647206</td><td>0.99987</td><td>0.371107</td><td>3.999682</td><td>0.000159</td><td>-0.000159</td><td>0.000159</td><td>&hellip;</td><td>2837.693033</td><td>0.999275</td><td>0.000362</td><td>3.998912</td><td>56.052892</td><td>224.210478</td><td>14.013495</td><td>0.250272</td><td>3.685716</td><td>315.192629</td><td>0.108203</td><td>0.183882</td><td>23.686554</td><td>0.285304</td><td>1.140127</td><td>0.071598</td><td>33.057143</td><td>0.94449</td><td>0.027755</td><td>3.914286</td><td>6.2008e6</td><td>2.4803e7</td><td>1.5502e6</td><td>0.271429</td><td>5.971429</td><td>0.170612</td><td>0.397002</td><td>1.502295</td><td>0.120679</td><td>3.231618</td><td>0.002266</td><td>6.0061e6</td><td>0.300826</td><td>0.831125</td><td>0.000156</td><td>9.2377e-9</td><td>0.90777</td></tr><tr><td>&quot;HGG&quot;</td><td>0.805201</td><td>0.596898</td><td>17.919111</td><td>30.020387</td><td>34.132096</td><td>34.525353</td><td>31.144823</td><td>35.496479</td><td>9073.541667</td><td>24.172434</td><td>0.73062</td><td>2879.455924</td><td>0.317346</td><td>9160.0</td><td>0.511066</td><td>1.20927</td><td>7040.180407</td><td>-3.2034e-16</td><td>0.263257</td><td>10.595436</td><td>3.429786</td><td>0.233776</td><td>0.801736</td><td>0.711371</td><td>0.013167</td><td>3.416619</td><td>0.120232</td><td>0.876686</td><td>2.380337</td><td>7040.180407</td><td>1.0</td><td>0.125799</td><td>1.0</td><td>0.0</td><td>0.0</td><td>0.0</td><td>&hellip;</td><td>931.230769</td><td>1.0</td><td>0.0</td><td>1.0</td><td>148.738015</td><td>148.738015</td><td>148.738015</td><td>1.0</td><td>4.063811</td><td>65.188726</td><td>0.068125</td><td>0.101663</td><td>37.847387</td><td>0.148596</td><td>0.148596</td><td>0.148596</td><td>9.0</td><td>1.0</td><td>0.0</td><td>1.0</td><td>9.1449e6</td><td>9.1449e6</td><td>9.1449e6</td><td>1.0</td><td>1.0</td><td>0.111111</td><td>0.155282</td><td>0.155282</td><td>0.155282</td><td>3.169925</td><td>0.000983</td><td>8.1090e6</td><td>0.0</td><td>1e6</td><td>0.0</td><td>0.0</td><td>0.0</td></tr><tr><td>&quot;HGG&quot;</td><td>0.768372</td><td>0.722447</td><td>11.550058</td><td>15.987407</td><td>18.681542</td><td>18.384776</td><td>18.681542</td><td>22.135944</td><td>684.083333</td><td>12.284284</td><td>0.406249</td><td>924.196735</td><td>1.351</td><td>733.0</td><td>1.441948</td><td>3.355092</td><td>4630.563368</td><td>-3.2034e-16</td><td>1.090258</td><td>2.45011</td><td>4.360985</td><td>0.592579</td><td>2.407835</td><td>2.420584</td><td>0.713811</td><td>3.647174</td><td>0.43292</td><td>2.513419</td><td>0.055125</td><td>4630.563368</td><td>1.0</td><td>0.519605</td><td>1.0</td><td>0.0</td><td>0.0</td><td>0.0</td><td>&hellip;</td><td>291.153846</td><td>1.0</td><td>0.0</td><td>1.0</td><td>10.77577</td><td>10.77577</td><td>10.77577</td><td>1.0</td><td>2.387787</td><td>77.714144</td><td>0.259495</td><td>0.397209</td><td>3.934461</td><td>0.500213</td><td>0.500213</td><td>0.500213</td><td>7.0</td><td>1.0</td><td>0.0</td><td>1.0</td><td>62367.571429</td><td>62367.571429</td><td>62367.571429</td><td>1.0</td><td>1.285714</td><td>0.183673</td><td>0.298127</td><td>0.298127</td><td>0.298127</td><td>2.521641</td><td>0.00955</td><td>51402.489796</td><td>0.0</td><td>1e6</td><td>0.0</td><td>0.0</td><td>0.0</td></tr><tr><td>&quot;HGG&quot;</td><td>0.880563</td><td>0.556199</td><td>21.603687</td><td>38.841633</td><td>42.720019</td><td>46.238512</td><td>44.384682</td><td>46.914816</td><td>10608.041667</td><td>34.202508</td><td>0.246069</td><td>9488.192833</td><td>0.894434</td><td>10902.0</td><td>0.862828</td><td>2.445411</td><td>32015.142395</td><td>-3.2034e-16</td><td>0.977685</td><td>2.574108</td><td>4.196802</td><td>0.524396</td><td>1.598139</td><td>1.523996</td><td>0.342334</td><td>3.854469</td><td>0.404497</td><td>1.71366</td><td>0.501066</td><td>32015.142395</td><td>1.0</td><td>0.382583</td><td>1.0</td><td>0.0</td><td>0.0</td><td>0.0</td><td>&hellip;</td><td>2986.769231</td><td>1.0</td><td>0.0</td><td>1.0</td><td>27.455009</td><td>27.455009</td><td>27.455009</td><td>1.0</td><td>3.051311</td><td>557.843589</td><td>0.182311</td><td>0.273965</td><td>13.085883</td><td>0.40605</td><td>0.40605</td><td>0.40605</td><td>37.0</td><td>1.0</td><td>0.0</td><td>1.0</td><td>3.0228e6</td><td>3.0228e6</td><td>3.0228e6</td><td>1.0</td><td>5.594595</td><td>0.151205</td><td>0.360428</td><td>0.360428</td><td>0.360428</td><td>3.230669</td><td>0.003394</td><td>2.9360e6</td><td>0.0</td><td>1e6</td><td>0.0</td><td>0.0</td><td>0.0</td></tr><tr><td>&quot;HGG&quot;</td><td>0.342747</td><td>0.309231</td><td>20.04694</td><td>64.828365</td><td>60.60528</td><td>32.280025</td><td>48.754487</td><td>61.43289</td><td>3209.833333</td><td>22.219752</td><td>0.201071</td><td>5233.470765</td><td>1.630449</td><td>3624.0</td><td>1.890351</td><td>3.694297</td><td>29902.191747</td><td>-3.2034e-16</td><td>0.940189</td><td>3.291029</td><td>5.82697</td><td>0.555445</td><td>2.785681</td><td>2.769665</td><td>0.639021</td><td>5.187949</td><td>0.391193</td><td>2.872483</td><td>0.463672</td><td>29902.191747</td><td>1.0</td><td>0.491141</td><td>1.0</td><td>0.0</td><td>0.0</td><td>0.0</td><td>&hellip;</td><td>1629.384615</td><td>1.0</td><td>0.0</td><td>1.0</td><td>8.473932</td><td>8.473932</td><td>8.473932</td><td>1.0</td><td>2.199209</td><td>505.603602</td><td>0.304522</td><td>0.449609</td><td>3.261904</td><td>0.551107</td><td>0.551107</td><td>0.551107</td><td>37.0</td><td>1.0</td><td>0.0</td><td>1.0</td><td>216977.945946</td><td>216977.945946</td><td>216977.945946</td><td>1.0</td><td>12.027027</td><td>0.325055</td><td>0.582357</td><td>0.582357</td><td>0.582357</td><td>2.332735</td><td>0.01021</td><td>207384.537619</td><td>0.0</td><td>1e6</td><td>0.0</td><td>0.0</td><td>0.0</td></tr></tbody></table></div>"
      ],
      "text/plain": [
       "shape: (5, 108)\n",
       "┌───────┬────────────┬────────────┬────────────┬───┬───────────┬───────────┬───────────┬───────────┐\n",
       "│ Group ┆ shape_Elon ┆ shape_Flat ┆ shape_Leas ┆ … ┆ ngtdm_Coa ┆ ngtdm_Com ┆ ngtdm_Con ┆ ngtdm_Str │\n",
       "│ ---   ┆ gation     ┆ ness       ┆ tAxisLengt ┆   ┆ rseness   ┆ plexity   ┆ trast     ┆ ength     │\n",
       "│ str   ┆ ---        ┆ ---        ┆ h          ┆   ┆ ---       ┆ ---       ┆ ---       ┆ ---       │\n",
       "│       ┆ f64        ┆ f64        ┆ ---        ┆   ┆ f64       ┆ f64       ┆ f64       ┆ f64       │\n",
       "│       ┆            ┆            ┆ f64        ┆   ┆           ┆           ┆           ┆           │\n",
       "╞═══════╪════════════╪════════════╪════════════╪═══╪═══════════╪═══════════╪═══════════╪═══════════╡\n",
       "│ HGG   ┆ 0.731829   ┆ 0.41979    ┆ 21.139285  ┆ … ┆ 0.831125  ┆ 0.000156  ┆ 9.2377e-9 ┆ 0.90777   │\n",
       "│ HGG   ┆ 0.805201   ┆ 0.596898   ┆ 17.919111  ┆ … ┆ 1e6       ┆ 0.0       ┆ 0.0       ┆ 0.0       │\n",
       "│ HGG   ┆ 0.768372   ┆ 0.722447   ┆ 11.550058  ┆ … ┆ 1e6       ┆ 0.0       ┆ 0.0       ┆ 0.0       │\n",
       "│ HGG   ┆ 0.880563   ┆ 0.556199   ┆ 21.603687  ┆ … ┆ 1e6       ┆ 0.0       ┆ 0.0       ┆ 0.0       │\n",
       "│ HGG   ┆ 0.342747   ┆ 0.309231   ┆ 20.04694   ┆ … ┆ 1e6       ┆ 0.0       ┆ 0.0       ┆ 0.0       │\n",
       "└───────┴────────────┴────────────┴────────────┴───┴───────────┴───────────┴───────────┴───────────┘"
      ]
     },
     "execution_count": 66,
     "metadata": {},
     "output_type": "execute_result"
    }
   ],
   "source": [
    "df.head()"
   ]
  },
  {
   "cell_type": "code",
   "execution_count": 67,
   "id": "ac56c3ea",
   "metadata": {},
   "outputs": [
    {
     "data": {
      "text/html": [
       "<div><style>\n",
       ".dataframe > thead > tr,\n",
       ".dataframe > tbody > tr {\n",
       "  text-align: right;\n",
       "  white-space: pre-wrap;\n",
       "}\n",
       "</style>\n",
       "<small>shape: (9, 109)</small><table border=\"1\" class=\"dataframe\"><thead><tr><th>statistic</th><th>Group</th><th>shape_Elongation</th><th>shape_Flatness</th><th>shape_LeastAxisLength</th><th>shape_MajorAxisLength</th><th>shape_Maximum2DDiameterColumn</th><th>shape_Maximum2DDiameterRow</th><th>shape_Maximum2DDiameterSlice</th><th>shape_Maximum3DDiameter</th><th>shape_MeshVolume</th><th>shape_MinorAxisLength</th><th>shape_Sphericity</th><th>shape_SurfaceArea</th><th>shape_SurfaceVolumeRatio</th><th>shape_VoxelVolume</th><th>firstorder_10Percentile</th><th>firstorder_90Percentile</th><th>firstorder_Energy</th><th>firstorder_Entropy</th><th>firstorder_InterquartileRange</th><th>firstorder_Kurtosis</th><th>firstorder_Maximum</th><th>firstorder_MeanAbsoluteDeviation</th><th>firstorder_Mean</th><th>firstorder_Median</th><th>firstorder_Minimum</th><th>firstorder_Range</th><th>firstorder_RobustMeanAbsoluteDeviation</th><th>firstorder_RootMeanSquared</th><th>firstorder_Skewness</th><th>firstorder_TotalEnergy</th><th>firstorder_Uniformity</th><th>firstorder_Variance</th><th>glcm_Autocorrelation</th><th>glcm_ClusterProminence</th><th>glcm_ClusterShade</th><th>&hellip;</th><th>glrlm_GrayLevelNonUniformity</th><th>glrlm_GrayLevelNonUniformityNormalized</th><th>glrlm_GrayLevelVariance</th><th>glrlm_HighGrayLevelRunEmphasis</th><th>glrlm_LongRunEmphasis</th><th>glrlm_LongRunHighGrayLevelEmphasis</th><th>glrlm_LongRunLowGrayLevelEmphasis</th><th>glrlm_LowGrayLevelRunEmphasis</th><th>glrlm_RunEntropy</th><th>glrlm_RunLengthNonUniformity</th><th>glrlm_RunLengthNonUniformityNormalized</th><th>glrlm_RunPercentage</th><th>glrlm_RunVariance</th><th>glrlm_ShortRunEmphasis</th><th>glrlm_ShortRunHighGrayLevelEmphasis</th><th>glrlm_ShortRunLowGrayLevelEmphasis</th><th>glszm_GrayLevelNonUniformity</th><th>glszm_GrayLevelNonUniformityNormalized</th><th>glszm_GrayLevelVariance</th><th>glszm_HighGrayLevelZoneEmphasis</th><th>glszm_LargeAreaEmphasis</th><th>glszm_LargeAreaHighGrayLevelEmphasis</th><th>glszm_LargeAreaLowGrayLevelEmphasis</th><th>glszm_LowGrayLevelZoneEmphasis</th><th>glszm_SizeZoneNonUniformity</th><th>glszm_SizeZoneNonUniformityNormalized</th><th>glszm_SmallAreaEmphasis</th><th>glszm_SmallAreaHighGrayLevelEmphasis</th><th>glszm_SmallAreaLowGrayLevelEmphasis</th><th>glszm_ZoneEntropy</th><th>glszm_ZonePercentage</th><th>glszm_ZoneVariance</th><th>ngtdm_Busyness</th><th>ngtdm_Coarseness</th><th>ngtdm_Complexity</th><th>ngtdm_Contrast</th><th>ngtdm_Strength</th></tr><tr><td>str</td><td>str</td><td>f64</td><td>f64</td><td>f64</td><td>f64</td><td>f64</td><td>f64</td><td>f64</td><td>f64</td><td>f64</td><td>f64</td><td>f64</td><td>f64</td><td>f64</td><td>f64</td><td>f64</td><td>f64</td><td>f64</td><td>f64</td><td>f64</td><td>f64</td><td>f64</td><td>f64</td><td>f64</td><td>f64</td><td>f64</td><td>f64</td><td>f64</td><td>f64</td><td>f64</td><td>f64</td><td>f64</td><td>f64</td><td>f64</td><td>f64</td><td>f64</td><td>&hellip;</td><td>f64</td><td>f64</td><td>f64</td><td>f64</td><td>f64</td><td>f64</td><td>f64</td><td>f64</td><td>f64</td><td>f64</td><td>f64</td><td>f64</td><td>f64</td><td>f64</td><td>f64</td><td>f64</td><td>f64</td><td>f64</td><td>f64</td><td>f64</td><td>f64</td><td>f64</td><td>f64</td><td>f64</td><td>f64</td><td>f64</td><td>f64</td><td>f64</td><td>f64</td><td>f64</td><td>f64</td><td>f64</td><td>f64</td><td>f64</td><td>f64</td><td>f64</td><td>f64</td></tr></thead><tbody><tr><td>&quot;count&quot;</td><td>&quot;368&quot;</td><td>368.0</td><td>368.0</td><td>368.0</td><td>368.0</td><td>368.0</td><td>368.0</td><td>368.0</td><td>368.0</td><td>368.0</td><td>368.0</td><td>368.0</td><td>368.0</td><td>368.0</td><td>368.0</td><td>368.0</td><td>368.0</td><td>368.0</td><td>368.0</td><td>368.0</td><td>368.0</td><td>368.0</td><td>368.0</td><td>368.0</td><td>368.0</td><td>368.0</td><td>368.0</td><td>368.0</td><td>368.0</td><td>368.0</td><td>368.0</td><td>368.0</td><td>368.0</td><td>368.0</td><td>368.0</td><td>368.0</td><td>&hellip;</td><td>368.0</td><td>368.0</td><td>368.0</td><td>368.0</td><td>368.0</td><td>368.0</td><td>368.0</td><td>368.0</td><td>368.0</td><td>368.0</td><td>368.0</td><td>368.0</td><td>368.0</td><td>368.0</td><td>368.0</td><td>368.0</td><td>368.0</td><td>368.0</td><td>368.0</td><td>368.0</td><td>368.0</td><td>368.0</td><td>368.0</td><td>368.0</td><td>368.0</td><td>368.0</td><td>368.0</td><td>368.0</td><td>368.0</td><td>368.0</td><td>368.0</td><td>368.0</td><td>368.0</td><td>368.0</td><td>368.0</td><td>368.0</td><td>368.0</td></tr><tr><td>&quot;null_count&quot;</td><td>&quot;0&quot;</td><td>0.0</td><td>0.0</td><td>0.0</td><td>0.0</td><td>0.0</td><td>0.0</td><td>0.0</td><td>0.0</td><td>0.0</td><td>0.0</td><td>0.0</td><td>0.0</td><td>0.0</td><td>0.0</td><td>0.0</td><td>0.0</td><td>0.0</td><td>0.0</td><td>0.0</td><td>0.0</td><td>0.0</td><td>0.0</td><td>0.0</td><td>0.0</td><td>0.0</td><td>0.0</td><td>0.0</td><td>0.0</td><td>0.0</td><td>0.0</td><td>0.0</td><td>0.0</td><td>0.0</td><td>0.0</td><td>0.0</td><td>&hellip;</td><td>0.0</td><td>0.0</td><td>0.0</td><td>0.0</td><td>0.0</td><td>0.0</td><td>0.0</td><td>0.0</td><td>0.0</td><td>0.0</td><td>0.0</td><td>0.0</td><td>0.0</td><td>0.0</td><td>0.0</td><td>0.0</td><td>0.0</td><td>0.0</td><td>0.0</td><td>0.0</td><td>0.0</td><td>0.0</td><td>0.0</td><td>0.0</td><td>0.0</td><td>0.0</td><td>0.0</td><td>0.0</td><td>0.0</td><td>0.0</td><td>0.0</td><td>0.0</td><td>0.0</td><td>0.0</td><td>0.0</td><td>0.0</td><td>0.0</td></tr><tr><td>&quot;mean&quot;</td><td>null</td><td>0.723042</td><td>0.555079</td><td>24.485618</td><td>45.730192</td><td>45.057</td><td>51.053797</td><td>49.333276</td><td>56.808197</td><td>21862.7851</td><td>32.004908</td><td>0.376242</td><td>9237.61258</td><td>0.923609</td><td>22179.336957</td><td>1.374584</td><td>2.522678</td><td>74696.113733</td><td>0.007873</td><td>0.626598</td><td>3.996735</td><td>4.162478</td><td>0.36554</td><td>1.920441</td><td>1.882498</td><td>0.571002</td><td>3.591476</td><td>0.261605</td><td>1.985013</td><td>0.372539</td><td>74696.113733</td><td>0.996985</td><td>0.23679</td><td>1.530893</td><td>0.006383</td><td>-0.003187</td><td>&hellip;</td><td>2971.81061</td><td>0.994031</td><td>0.002985</td><td>1.526069</td><td>100.816023</td><td>186.329359</td><td>79.43769</td><td>0.868483</td><td>3.329075</td><td>428.802215</td><td>0.183117</td><td>0.2571</td><td>38.653377</td><td>0.369848</td><td>0.53148</td><td>0.32944</td><td>34.180723</td><td>0.959979</td><td>0.02001</td><td>1.353266</td><td>3.3695e8</td><td>5.0550e8</td><td>2.9481e8</td><td>0.911684</td><td>9.541138</td><td>0.32483</td><td>0.43707</td><td>0.604474</td><td>0.395219</td><td>2.36478</td><td>0.008932</td><td>1.1143e8</td><td>14.646119</td><td>826087.014728</td><td>0.0014</td><td>0.000218</td><td>0.055786</td></tr><tr><td>&quot;std&quot;</td><td>null</td><td>0.155188</td><td>0.147826</td><td>10.167512</td><td>19.301596</td><td>16.080009</td><td>20.17874</td><td>19.738679</td><td>21.27765</td><td>29860.458179</td><td>12.507605</td><td>0.155833</td><td>8357.631322</td><td>0.910963</td><td>29878.14703</td><td>0.524901</td><td>0.51373</td><td>101634.496284</td><td>0.067677</td><td>0.276941</td><td>3.48061</td><td>1.281748</td><td>0.143954</td><td>0.490192</td><td>0.526195</td><td>0.592212</td><td>1.55996</td><td>0.111509</td><td>0.474185</td><td>0.726591</td><td>101634.496284</td><td>0.032312</td><td>0.185438</td><td>1.140018</td><td>0.065065</td><td>0.030067</td><td>&hellip;</td><td>2678.237799</td><td>0.03868</td><td>0.01934</td><td>1.1305</td><td>143.823868</td><td>380.737352</td><td>123.451225</td><td>0.282625</td><td>1.00734</td><td>424.904352</td><td>0.133404</td><td>0.166938</td><td>49.160277</td><td>0.170914</td><td>0.427127</td><td>0.195481</td><td>35.946525</td><td>0.10927</td><td>0.054635</td><td>0.870037</td><td>1.8943e9</td><td>2.7633e9</td><td>1.8311e9</td><td>0.217509</td><td>11.072411</td><td>0.214116</td><td>0.182395</td><td>0.521023</td><td>0.192639</td><td>0.912152</td><td>0.022245</td><td>5.8674e8</td><td>181.567308</td><td>379550.608458</td><td>0.013492</td><td>0.002967</td><td>0.199405</td></tr><tr><td>&quot;min&quot;</td><td>&quot;HGG&quot;</td><td>0.222498</td><td>0.124907</td><td>3.738339</td><td>7.287142</td><td>8.062258</td><td>7.28011</td><td>5.385165</td><td>9.0</td><td>22.083333</td><td>5.415523</td><td>0.096556</td><td>68.848149</td><td>0.131759</td><td>47.0</td><td>-0.190334</td><td>0.736837</td><td>370.774559</td><td>-3.2034e-16</td><td>0.153756</td><td>1.752027</td><td>1.681907</td><td>0.093379</td><td>0.203953</td><td>0.105943</td><td>-0.454909</td><td>0.528899</td><td>0.064838</td><td>0.431033</td><td>-3.62028</td><td>370.774559</td><td>0.534089</td><td>0.01326</td><td>1.0</td><td>0.0</td><td>-0.472291</td><td>&hellip;</td><td>24.230769</td><td>0.50779</td><td>0.0</td><td>1.0</td><td>1.401858</td><td>1.401858</td><td>0.70266</td><td>0.250107</td><td>0.463787</td><td>10.058603</td><td>0.025888</td><td>0.042804</td><td>0.16028</td><td>0.049052</td><td>0.049052</td><td>0.021305</td><td>1.0</td><td>0.5</td><td>0.0</td><td>1.0</td><td>46.769231</td><td>46.769231</td><td>46.769231</td><td>0.255952</td><td>1.0</td><td>0.080332</td><td>4.0048e-11</td><td>4.0048e-11</td><td>4.0048e-11</td><td>-3.2034e-16</td><td>0.000006</td><td>0.0</td><td>0.0</td><td>0.000141</td><td>0.0</td><td>0.0</td><td>0.0</td></tr><tr><td>&quot;25%&quot;</td><td>null</td><td>0.634073</td><td>0.464006</td><td>17.272473</td><td>33.002982</td><td>33.615473</td><td>36.796739</td><td>35.171011</td><td>42.296572</td><td>3599.625</td><td>22.601235</td><td>0.255762</td><td>3351.436318</td><td>0.417864</td><td>3916.0</td><td>0.979455</td><td>2.190171</td><td>15821.058967</td><td>-3.2034e-16</td><td>0.434014</td><td>2.627947</td><td>3.155506</td><td>0.264655</td><td>1.598257</td><td>1.526641</td><td>0.12344</td><td>2.401487</td><td>0.185134</td><td>1.684222</td><td>-0.086409</td><td>15821.058967</td><td>1.0</td><td>0.118225</td><td>1.0</td><td>0.0</td><td>0.0</td><td>&hellip;</td><td>1073.153846</td><td>1.0</td><td>0.0</td><td>1.0</td><td>17.366738</td><td>17.68425</td><td>13.858298</td><td>1.0</td><td>2.709055</td><td>139.281601</td><td>0.09154</td><td>0.137531</td><td>7.674577</td><td>0.249261</td><td>0.285863</td><td>0.162384</td><td>9.0</td><td>1.0</td><td>0.0</td><td>1.0</td><td>461810.015625</td><td>518611.833333</td><td>358783.870588</td><td>1.0</td><td>2.166667</td><td>0.195924</td><td>0.346738</td><td>0.354169</td><td>0.277291</td><td>2.0</td><td>0.000764</td><td>206626.107085</td><td>0.0</td><td>1e6</td><td>0.0</td><td>0.0</td><td>0.0</td></tr><tr><td>&quot;50%&quot;</td><td>null</td><td>0.745096</td><td>0.575729</td><td>23.508105</td><td>43.981132</td><td>44.407207</td><td>50.219518</td><td>49.406477</td><td>56.471232</td><td>10340.5</td><td>31.362378</td><td>0.34617</td><td>7331.645871</td><td>0.695517</td><td>10590.0</td><td>1.327203</td><td>2.508456</td><td>41385.619211</td><td>-3.2034e-16</td><td>0.586345</td><td>3.262533</td><td>3.778643</td><td>0.346395</td><td>1.901583</td><td>1.847197</td><td>0.505102</td><td>3.35169</td><td>0.242905</td><td>1.964811</td><td>0.387561</td><td>41385.619211</td><td>1.0</td><td>0.190868</td><td>1.0</td><td>0.0</td><td>0.0</td><td>&hellip;</td><td>2348.384615</td><td>1.0</td><td>0.0</td><td>1.0</td><td>43.578971</td><td>52.818404</td><td>33.627387</td><td>1.0</td><td>3.366516</td><td>310.531785</td><td>0.153595</td><td>0.216342</td><td>20.198637</td><td>0.364618</td><td>0.412441</td><td>0.32097</td><td>22.0</td><td>1.0</td><td>0.0</td><td>1.0</td><td>4.3332e6</td><td>4.9021e6</td><td>3.0420e6</td><td>1.0</td><td>5.769231</td><td>0.27388</td><td>0.478282</td><td>0.501914</td><td>0.432565</td><td>2.508817</td><td>0.002867</td><td>2.1113e6</td><td>0.0</td><td>1e6</td><td>0.0</td><td>0.0</td><td>0.0</td></tr><tr><td>&quot;75%&quot;</td><td>null</td><td>0.841307</td><td>0.662864</td><td>30.729417</td><td>55.860815</td><td>55.713553</td><td>63.906181</td><td>61.188234</td><td>69.318107</td><td>25147.291667</td><td>39.560643</td><td>0.469189</td><td>12960.865504</td><td>1.102541</td><td>25394.0</td><td>1.757149</td><td>2.800596</td><td>90886.79294</td><td>-3.2034e-16</td><td>0.789395</td><td>4.172358</td><td>5.021085</td><td>0.461592</td><td>2.238754</td><td>2.250661</td><td>0.973464</td><td>4.641944</td><td>0.327086</td><td>2.290388</td><td>0.778114</td><td>90886.79294</td><td>1.0</td><td>0.312538</td><td>1.0</td><td>0.0</td><td>0.0</td><td>&hellip;</td><td>4221.153846</td><td>1.0</td><td>0.0</td><td>1.0</td><td>112.962502</td><td>171.722879</td><td>91.251669</td><td>1.0</td><td>4.035562</td><td>568.203129</td><td>0.232698</td><td>0.327519</td><td>49.737264</td><td>0.47274</td><td>0.609252</td><td>0.462379</td><td>46.0</td><td>1.0</td><td>0.0</td><td>1.0</td><td>3.0101e7</td><td>4.1876e7</td><td>2.0333272e7</td><td>1.0</td><td>12.742857</td><td>0.34375</td><td>0.559436</td><td>0.597117</td><td>0.535245</td><td>2.947703</td><td>0.00765</td><td>1.5384e7</td><td>0.0</td><td>1e6</td><td>0.0</td><td>0.0</td><td>0.0</td></tr><tr><td>&quot;max&quot;</td><td>&quot;LGG&quot;</td><td>0.984177</td><td>0.878147</td><td>59.587263</td><td>171.979417</td><td>105.475116</td><td>113.216607</td><td>117.885538</td><td>132.07195</td><td>188726.0</td><td>70.539774</td><td>0.831783</td><td>52815.73818</td><td>9.842839</td><td>189152.0</td><td>3.048159</td><td>4.654783</td><td>874135.428433</td><td>0.950246</td><td>2.081183</td><td>50.929231</td><td>8.818044</td><td>1.103804</td><td>3.364545</td><td>3.396505</td><td>2.232331</td><td>9.234909</td><td>0.839303</td><td>3.372971</td><td>4.427729</td><td>874135.428433</td><td>1.0</td><td>1.726145</td><td>4.0</td><td>0.914482</td><td>0.0</td><td>&hellip;</td><td>16845.846154</td><td>1.0</td><td>0.246105</td><td>3.99957</td><td>879.823903</td><td>2928.225613</td><td>879.823903</td><td>1.0</td><td>5.492323</td><td>3024.76271</td><td>0.835281</td><td>0.898687</td><td>299.155169</td><td>0.929974</td><td>2.972293</td><td>0.929974</td><td>267.116364</td><td>1.0</td><td>0.25</td><td>3.97619</td><td>2.4970e10</td><td>3.8177e10</td><td>2.4970e10</td><td>1.0</td><td>78.549091</td><td>1.0</td><td>0.857143</td><td>2.667181</td><td>0.857143</td><td>4.328883</td><td>0.216667</td><td>7.9505e9</td><td>3093.259142</td><td>1e6</td><td>0.199553</td><td>0.046437</td><td>1.236522</td></tr></tbody></table></div>"
      ],
      "text/plain": [
       "shape: (9, 109)\n",
       "┌────────────┬───────┬────────────┬────────────┬───┬───────────┬───────────┬───────────┬───────────┐\n",
       "│ statistic  ┆ Group ┆ shape_Elon ┆ shape_Flat ┆ … ┆ ngtdm_Coa ┆ ngtdm_Com ┆ ngtdm_Con ┆ ngtdm_Str │\n",
       "│ ---        ┆ ---   ┆ gation     ┆ ness       ┆   ┆ rseness   ┆ plexity   ┆ trast     ┆ ength     │\n",
       "│ str        ┆ str   ┆ ---        ┆ ---        ┆   ┆ ---       ┆ ---       ┆ ---       ┆ ---       │\n",
       "│            ┆       ┆ f64        ┆ f64        ┆   ┆ f64       ┆ f64       ┆ f64       ┆ f64       │\n",
       "╞════════════╪═══════╪════════════╪════════════╪═══╪═══════════╪═══════════╪═══════════╪═══════════╡\n",
       "│ count      ┆ 368   ┆ 368.0      ┆ 368.0      ┆ … ┆ 368.0     ┆ 368.0     ┆ 368.0     ┆ 368.0     │\n",
       "│ null_count ┆ 0     ┆ 0.0        ┆ 0.0        ┆ … ┆ 0.0       ┆ 0.0       ┆ 0.0       ┆ 0.0       │\n",
       "│ mean       ┆ null  ┆ 0.723042   ┆ 0.555079   ┆ … ┆ 826087.01 ┆ 0.0014    ┆ 0.000218  ┆ 0.055786  │\n",
       "│            ┆       ┆            ┆            ┆   ┆ 4728      ┆           ┆           ┆           │\n",
       "│ std        ┆ null  ┆ 0.155188   ┆ 0.147826   ┆ … ┆ 379550.60 ┆ 0.013492  ┆ 0.002967  ┆ 0.199405  │\n",
       "│            ┆       ┆            ┆            ┆   ┆ 8458      ┆           ┆           ┆           │\n",
       "│ min        ┆ HGG   ┆ 0.222498   ┆ 0.124907   ┆ … ┆ 0.000141  ┆ 0.0       ┆ 0.0       ┆ 0.0       │\n",
       "│ 25%        ┆ null  ┆ 0.634073   ┆ 0.464006   ┆ … ┆ 1e6       ┆ 0.0       ┆ 0.0       ┆ 0.0       │\n",
       "│ 50%        ┆ null  ┆ 0.745096   ┆ 0.575729   ┆ … ┆ 1e6       ┆ 0.0       ┆ 0.0       ┆ 0.0       │\n",
       "│ 75%        ┆ null  ┆ 0.841307   ┆ 0.662864   ┆ … ┆ 1e6       ┆ 0.0       ┆ 0.0       ┆ 0.0       │\n",
       "│ max        ┆ LGG   ┆ 0.984177   ┆ 0.878147   ┆ … ┆ 1e6       ┆ 0.199553  ┆ 0.046437  ┆ 1.236522  │\n",
       "└────────────┴───────┴────────────┴────────────┴───┴───────────┴───────────┴───────────┴───────────┘"
      ]
     },
     "execution_count": 67,
     "metadata": {},
     "output_type": "execute_result"
    }
   ],
   "source": [
    "df.describe()"
   ]
  },
  {
   "cell_type": "markdown",
   "id": "b7f258c5",
   "metadata": {},
   "source": [
    "Train/test split:"
   ]
  },
  {
   "cell_type": "code",
   "execution_count": 68,
   "id": "725aa59b",
   "metadata": {},
   "outputs": [
    {
     "name": "stdout",
     "output_type": "stream",
     "text": [
      "Split the data in Train and Test subsets.\n",
      "\n",
      "Check class proportions in training dataset:\n",
      "shape: (2, 3)\n",
      "┌───────┬───────┬────────────┐\n",
      "│ Group ┆ count ┆ proportion │\n",
      "│ ---   ┆ ---   ┆ ---        │\n",
      "│ str   ┆ u32   ┆ f64        │\n",
      "╞═══════╪═══════╪════════════╡\n",
      "│ HGG   ┆ 233   ┆ 0.792517   │\n",
      "│ LGG   ┆ 61    ┆ 0.207483   │\n",
      "└───────┴───────┴────────────┘\n",
      "\n",
      "Check class proportions in test dataset:\n",
      "shape: (2, 3)\n",
      "┌───────┬───────┬────────────┐\n",
      "│ Group ┆ count ┆ proportion │\n",
      "│ ---   ┆ ---   ┆ ---        │\n",
      "│ str   ┆ u32   ┆ f64        │\n",
      "╞═══════╪═══════╪════════════╡\n",
      "│ HGG   ┆ 59    ┆ 0.797297   │\n",
      "│ LGG   ┆ 15    ┆ 0.202703   │\n",
      "└───────┴───────┴────────────┘\n"
     ]
    }
   ],
   "source": [
    "print(\"Split the data in Train and Test subsets.\")\n",
    "\n",
    "training_data, test_data = train_test_split(\n",
    "    df,\n",
    "    test_size=0.20,\n",
    "    stratify=df[\"Group\"],\n",
    "    random_state=42,\n",
    ")\n",
    "\n",
    "\n",
    "def check_class_proportions(df: pl.DataFrame):\n",
    "    summary = (\n",
    "        df.group_by(\"Group\")\n",
    "        .agg(pl.len().alias(\"count\"))\n",
    "        .with_columns((pl.col(\"count\") / pl.col(\"count\").sum()).alias(\"proportion\"))\n",
    "        .sort(\"count\", descending=True)\n",
    "    )\n",
    "    return summary\n",
    "\n",
    "\n",
    "print(\"\\nCheck class proportions in training dataset:\")\n",
    "print(check_class_proportions(training_data))\n",
    "\n",
    "print(\"\\nCheck class proportions in test dataset:\")\n",
    "print(check_class_proportions(test_data))"
   ]
  },
  {
   "cell_type": "markdown",
   "id": "ef017992",
   "metadata": {},
   "source": [
    "Feature scaling (use training data only):"
   ]
  },
  {
   "cell_type": "code",
   "execution_count": null,
   "id": "babe3c93",
   "metadata": {},
   "outputs": [
    {
     "data": {
      "text/html": [
       "\n",
       "<style>\n",
       "  #altair-viz-27e27a3a60b54edbbe8be37f3f415476.vega-embed {\n",
       "    width: 100%;\n",
       "    display: flex;\n",
       "  }\n",
       "\n",
       "  #altair-viz-27e27a3a60b54edbbe8be37f3f415476.vega-embed details,\n",
       "  #altair-viz-27e27a3a60b54edbbe8be37f3f415476.vega-embed details summary {\n",
       "    position: relative;\n",
       "  }\n",
       "</style>\n",
       "<div id=\"altair-viz-27e27a3a60b54edbbe8be37f3f415476\"></div>\n",
       "<script type=\"text/javascript\">\n",
       "  var VEGA_DEBUG = (typeof VEGA_DEBUG == \"undefined\") ? {} : VEGA_DEBUG;\n",
       "  (function(spec, embedOpt){\n",
       "    let outputDiv = document.currentScript.previousElementSibling;\n",
       "    if (outputDiv.id !== \"altair-viz-27e27a3a60b54edbbe8be37f3f415476\") {\n",
       "      outputDiv = document.getElementById(\"altair-viz-27e27a3a60b54edbbe8be37f3f415476\");\n",
       "    }\n",
       "\n",
       "    const paths = {\n",
       "      \"vega\": \"https://cdn.jsdelivr.net/npm/vega@5?noext\",\n",
       "      \"vega-lib\": \"https://cdn.jsdelivr.net/npm/vega-lib?noext\",\n",
       "      \"vega-lite\": \"https://cdn.jsdelivr.net/npm/vega-lite@5.20.1?noext\",\n",
       "      \"vega-embed\": \"https://cdn.jsdelivr.net/npm/vega-embed@6?noext\",\n",
       "    };\n",
       "\n",
       "    function maybeLoadScript(lib, version) {\n",
       "      var key = `${lib.replace(\"-\", \"\")}_version`;\n",
       "      return (VEGA_DEBUG[key] == version) ?\n",
       "        Promise.resolve(paths[lib]) :\n",
       "        new Promise(function(resolve, reject) {\n",
       "          var s = document.createElement('script');\n",
       "          document.getElementsByTagName(\"head\")[0].appendChild(s);\n",
       "          s.async = true;\n",
       "          s.onload = () => {\n",
       "            VEGA_DEBUG[key] = version;\n",
       "            return resolve(paths[lib]);\n",
       "          };\n",
       "          s.onerror = () => reject(`Error loading script: ${paths[lib]}`);\n",
       "          s.src = paths[lib];\n",
       "        });\n",
       "    }\n",
       "\n",
       "    function showError(err) {\n",
       "      outputDiv.innerHTML = `<div class=\"error\" style=\"color:red;\">${err}</div>`;\n",
       "      throw err;\n",
       "    }\n",
       "\n",
       "    function displayChart(vegaEmbed) {\n",
       "      vegaEmbed(outputDiv, spec, embedOpt)\n",
       "        .catch(err => showError(`Javascript Error: ${err.message}<br>This usually means there's a typo in your chart specification. See the javascript console for the full traceback.`));\n",
       "    }\n",
       "\n",
       "    if(typeof define === \"function\" && define.amd) {\n",
       "      requirejs.config({paths});\n",
       "      let deps = [\"vega-embed\"];\n",
       "      require(deps, displayChart, err => showError(`Error loading script: ${err.message}`));\n",
       "    } else {\n",
       "      maybeLoadScript(\"vega\", \"5\")\n",
       "        .then(() => maybeLoadScript(\"vega-lite\", \"5.20.1\"))\n",
       "        .then(() => maybeLoadScript(\"vega-embed\", \"6\"))\n",
       "        .catch(showError)\n",
       "        .then(() => displayChart(vegaEmbed));\n",
       "    }\n",
       "  })({\"config\": {\"view\": {\"continuousWidth\": 300, \"continuousHeight\": 300}}, \"data\": {\"name\": \"data-b0398631462e88d5b98699bd7efde64b\"}, \"mark\": {\"type\": \"bar\", \"tooltip\": true}, \"encoding\": {\"x\": {\"bin\": true, \"field\": \"shape_Elongation\", \"type\": \"quantitative\"}, \"y\": {\"aggregate\": \"count\", \"type\": \"quantitative\"}}, \"params\": [{\"name\": \"param_16\", \"select\": {\"type\": \"interval\", \"encodings\": [\"x\", \"y\"]}, \"bind\": \"scales\"}], \"$schema\": \"https://vega.github.io/schema/vega-lite/v5.20.1.json\", \"datasets\": {\"data-b0398631462e88d5b98699bd7efde64b\": [{\"shape_Elongation\": 1.0300718284260384}, {\"shape_Elongation\": 1.0224197924740324}, {\"shape_Elongation\": -0.8878072564315731}, {\"shape_Elongation\": -0.024990369219338605}, {\"shape_Elongation\": 0.1999923810883498}, {\"shape_Elongation\": 0.45739535658219554}, {\"shape_Elongation\": -0.16980193122722292}, {\"shape_Elongation\": 1.3797759880754306}, {\"shape_Elongation\": 1.0467409688296816}, {\"shape_Elongation\": 0.10300835825374004}, {\"shape_Elongation\": -1.1916763421399863}, {\"shape_Elongation\": 0.7869245078434755}, {\"shape_Elongation\": 1.0185182993870059}, {\"shape_Elongation\": 0.7090318967787406}, {\"shape_Elongation\": -1.1589326305779988}, {\"shape_Elongation\": -1.0240239773814044}, {\"shape_Elongation\": 0.3630249476405718}, {\"shape_Elongation\": -0.7240997824562484}, {\"shape_Elongation\": -0.5132888921712936}, {\"shape_Elongation\": -0.07207878967727566}, {\"shape_Elongation\": 0.7124299563881741}, {\"shape_Elongation\": -1.9047486524376898}, {\"shape_Elongation\": 0.14393300271179943}, {\"shape_Elongation\": -0.5660052167394879}, {\"shape_Elongation\": -0.4923711491706898}, {\"shape_Elongation\": 0.9584349979542851}, {\"shape_Elongation\": -0.7713941673868276}, {\"shape_Elongation\": -0.1677988289928493}, {\"shape_Elongation\": 0.7555788123076239}, {\"shape_Elongation\": -1.0926070554780483}, {\"shape_Elongation\": 0.3702924948223254}, {\"shape_Elongation\": -1.133426087856162}, {\"shape_Elongation\": -0.028091469141617528}, {\"shape_Elongation\": 0.030348396026430607}, {\"shape_Elongation\": -3.258710769460219}, {\"shape_Elongation\": 0.9758294150526372}, {\"shape_Elongation\": -0.33956146522855196}, {\"shape_Elongation\": 1.06455679592309}, {\"shape_Elongation\": -2.252290259650293}, {\"shape_Elongation\": 0.6886989004558208}, {\"shape_Elongation\": 1.3317433698878511}, {\"shape_Elongation\": 0.5090775153600688}, {\"shape_Elongation\": -0.22817622184180547}, {\"shape_Elongation\": -1.146860715068179}, {\"shape_Elongation\": 0.6607499767957501}, {\"shape_Elongation\": -2.8659226012912584}, {\"shape_Elongation\": 0.2629981289375837}, {\"shape_Elongation\": 1.042542553730988}, {\"shape_Elongation\": 0.11273564625015434}, {\"shape_Elongation\": 0.527724864742016}, {\"shape_Elongation\": -2.145841477049469}, {\"shape_Elongation\": -1.9861365492610992}, {\"shape_Elongation\": -0.7249376669707426}, {\"shape_Elongation\": 0.7206276418805988}, {\"shape_Elongation\": 0.014992864373427452}, {\"shape_Elongation\": -1.529615452064647}, {\"shape_Elongation\": -0.7472011964546549}, {\"shape_Elongation\": -3.0501674438757385}, {\"shape_Elongation\": 1.147787045167431}, {\"shape_Elongation\": 1.1665613853660455}, {\"shape_Elongation\": 0.8908357253117494}, {\"shape_Elongation\": 0.5228990224451072}, {\"shape_Elongation\": 0.6814525674320112}, {\"shape_Elongation\": 0.2227608849853413}, {\"shape_Elongation\": 0.5338548769085161}, {\"shape_Elongation\": -0.6723913316959955}, {\"shape_Elongation\": 1.1006808359368738}, {\"shape_Elongation\": 0.8467633402062794}, {\"shape_Elongation\": -0.4328482783934097}, {\"shape_Elongation\": 0.9653782315129024}, {\"shape_Elongation\": 0.932621170259824}, {\"shape_Elongation\": -1.121708432957921}, {\"shape_Elongation\": 0.5061296654948352}, {\"shape_Elongation\": 0.5545894419915404}, {\"shape_Elongation\": 1.5779290591787234}, {\"shape_Elongation\": 0.580777702854357}, {\"shape_Elongation\": 0.29201874043994464}, {\"shape_Elongation\": 0.95618628605863}, {\"shape_Elongation\": 0.6725399926204261}, {\"shape_Elongation\": 1.0825022051831172}, {\"shape_Elongation\": 1.291358948235292}, {\"shape_Elongation\": 0.08355100486383416}, {\"shape_Elongation\": -0.06940533455612335}, {\"shape_Elongation\": -0.39786404864132263}, {\"shape_Elongation\": 1.6957520095109055}, {\"shape_Elongation\": 0.6755318167525033}, {\"shape_Elongation\": 0.23517556817858293}, {\"shape_Elongation\": -0.6291926735374624}, {\"shape_Elongation\": -0.7520882516203703}, {\"shape_Elongation\": -1.1329932649761465}, {\"shape_Elongation\": -1.2589697620066664}, {\"shape_Elongation\": -0.8732353530715041}, {\"shape_Elongation\": 0.5311885473332528}, {\"shape_Elongation\": 0.7832150544158172}, {\"shape_Elongation\": -2.0696959580677605}, {\"shape_Elongation\": -1.653606576336348}, {\"shape_Elongation\": 0.4375077807664839}, {\"shape_Elongation\": 1.0885676086172829}, {\"shape_Elongation\": -0.39230736031576624}, {\"shape_Elongation\": -0.4952151373279757}, {\"shape_Elongation\": 1.1885125948957789}, {\"shape_Elongation\": -2.6211457844387533}, {\"shape_Elongation\": 1.0217804407086826}, {\"shape_Elongation\": -2.385087224669071}, {\"shape_Elongation\": 0.8492755745226225}, {\"shape_Elongation\": -0.1566957964562917}, {\"shape_Elongation\": -3.0052699475347175}, {\"shape_Elongation\": 0.5200527211297292}, {\"shape_Elongation\": -1.2392776981042264}, {\"shape_Elongation\": -1.125949501135862}, {\"shape_Elongation\": 0.6081884540275394}, {\"shape_Elongation\": 1.2584510581035868}, {\"shape_Elongation\": 0.12106814046935907}, {\"shape_Elongation\": 1.3759136869851043}, {\"shape_Elongation\": -3.077610642461385}, {\"shape_Elongation\": 1.0766152440229937}, {\"shape_Elongation\": 0.7062344536135005}, {\"shape_Elongation\": -0.8641206966981603}, {\"shape_Elongation\": 1.122186743243329}, {\"shape_Elongation\": 1.2649690290416271}, {\"shape_Elongation\": -2.457638066550541}, {\"shape_Elongation\": -1.2126716087362206}, {\"shape_Elongation\": -0.43763280859555603}, {\"shape_Elongation\": 0.4467851242009604}, {\"shape_Elongation\": -0.09574438815348546}, {\"shape_Elongation\": -1.1233149725254816}, {\"shape_Elongation\": -1.3423683260412855}, {\"shape_Elongation\": 0.14427625192536192}, {\"shape_Elongation\": -0.9722598106481283}, {\"shape_Elongation\": -0.5361680844383512}, {\"shape_Elongation\": -0.5028435973653009}, {\"shape_Elongation\": 1.2669920004734359}, {\"shape_Elongation\": 1.0101605437714898}, {\"shape_Elongation\": 0.17962699741812613}, {\"shape_Elongation\": 0.17297347379462552}, {\"shape_Elongation\": 1.023771352306508}, {\"shape_Elongation\": 0.05431859171620766}, {\"shape_Elongation\": 0.8427157991154121}, {\"shape_Elongation\": 0.4915909660134098}, {\"shape_Elongation\": 0.024974650892057543}, {\"shape_Elongation\": 0.0428808936050761}, {\"shape_Elongation\": 0.24204355119505983}, {\"shape_Elongation\": 0.01715440838588174}, {\"shape_Elongation\": -0.31869829498834745}, {\"shape_Elongation\": 0.8178965407128177}, {\"shape_Elongation\": 0.2896247695939226}, {\"shape_Elongation\": 0.46054211460213823}, {\"shape_Elongation\": 0.866875625314446}, {\"shape_Elongation\": -0.833669282463192}, {\"shape_Elongation\": -0.04129154300409794}, {\"shape_Elongation\": 0.09590977975408042}, {\"shape_Elongation\": -0.3913937441940111}, {\"shape_Elongation\": -0.27893508111381554}, {\"shape_Elongation\": 0.33052518869627456}, {\"shape_Elongation\": 0.21408220170379288}, {\"shape_Elongation\": -1.211010097327174}, {\"shape_Elongation\": 1.0114454869556877}, {\"shape_Elongation\": 0.1430568003473264}, {\"shape_Elongation\": -1.2515044769948815}, {\"shape_Elongation\": 0.8839746649996335}, {\"shape_Elongation\": -0.30941703943975074}, {\"shape_Elongation\": 0.023448869110122887}, {\"shape_Elongation\": 0.9734233287797769}, {\"shape_Elongation\": 0.6053472348473372}, {\"shape_Elongation\": -0.7992662956318729}, {\"shape_Elongation\": -0.09804333758826628}, {\"shape_Elongation\": -0.6247562344314339}, {\"shape_Elongation\": 0.9785837202915634}, {\"shape_Elongation\": 0.42380477484547263}, {\"shape_Elongation\": 0.06442149901882467}, {\"shape_Elongation\": 1.4522355567031435}, {\"shape_Elongation\": -0.23175929058936798}, {\"shape_Elongation\": -0.9288363329807637}, {\"shape_Elongation\": -0.2191237107949412}, {\"shape_Elongation\": -0.1892696590507926}, {\"shape_Elongation\": -1.5516458492567637}, {\"shape_Elongation\": 1.5258129071186854}, {\"shape_Elongation\": 1.559608202070089}, {\"shape_Elongation\": 0.30600194767326033}, {\"shape_Elongation\": 0.1041409641930155}, {\"shape_Elongation\": -1.5836601786908606}, {\"shape_Elongation\": 0.928416763832042}, {\"shape_Elongation\": 0.15961666093454072}, {\"shape_Elongation\": 1.2581755943538255}, {\"shape_Elongation\": 1.046076745705743}, {\"shape_Elongation\": -0.19650537383494235}, {\"shape_Elongation\": 0.5473160734745702}, {\"shape_Elongation\": -2.068443467649952}, {\"shape_Elongation\": -1.9688957076171627}, {\"shape_Elongation\": 0.2102685455178124}, {\"shape_Elongation\": -0.02075403344003946}, {\"shape_Elongation\": -0.004073339542947905}, {\"shape_Elongation\": 0.8461326637885785}, {\"shape_Elongation\": -0.5789903730746504}, {\"shape_Elongation\": -1.6440072287037815}, {\"shape_Elongation\": -0.6996031840900651}, {\"shape_Elongation\": 1.2439167673354976}, {\"shape_Elongation\": 0.8993366989427394}, {\"shape_Elongation\": 0.7664330872346433}, {\"shape_Elongation\": 0.4217493750526715}, {\"shape_Elongation\": 1.3702508856570712}, {\"shape_Elongation\": 0.6271792064845002}, {\"shape_Elongation\": -0.9369832190772583}, {\"shape_Elongation\": 0.15791895454599258}, {\"shape_Elongation\": 1.4280925325085159}, {\"shape_Elongation\": 0.044989270342215684}, {\"shape_Elongation\": -0.1300546286065138}, {\"shape_Elongation\": 0.4288701701674448}, {\"shape_Elongation\": -0.6191855224389533}, {\"shape_Elongation\": 0.8188838634018547}, {\"shape_Elongation\": -1.8927228554787452}, {\"shape_Elongation\": -0.027825466512858003}, {\"shape_Elongation\": -0.5921879888346476}, {\"shape_Elongation\": -2.4765269938053738}, {\"shape_Elongation\": -0.6303498373404086}, {\"shape_Elongation\": -1.4995921552553508}, {\"shape_Elongation\": -0.138564302010916}, {\"shape_Elongation\": -0.4848822493890524}, {\"shape_Elongation\": -0.5222236084617856}, {\"shape_Elongation\": 0.10450544846686269}, {\"shape_Elongation\": -0.12172069941690838}, {\"shape_Elongation\": 0.1809316259854406}, {\"shape_Elongation\": -0.10688647101625541}, {\"shape_Elongation\": 0.016489374143076357}, {\"shape_Elongation\": 1.0895883181257138}, {\"shape_Elongation\": 0.34308082283464614}, {\"shape_Elongation\": -0.42595629668007906}, {\"shape_Elongation\": 0.6333316818602167}, {\"shape_Elongation\": 0.8531676342572971}, {\"shape_Elongation\": 0.5748352193846319}, {\"shape_Elongation\": -0.5075822898283197}, {\"shape_Elongation\": 0.7208646079339107}, {\"shape_Elongation\": 1.308693340656732}, {\"shape_Elongation\": -1.0034301326091524}, {\"shape_Elongation\": 0.8139628686174238}, {\"shape_Elongation\": -0.3795701369259886}, {\"shape_Elongation\": 0.5539058758820516}, {\"shape_Elongation\": 0.6540908724272597}, {\"shape_Elongation\": 0.7355059253492394}, {\"shape_Elongation\": 1.155043891169998}, {\"shape_Elongation\": 0.34421111829168644}, {\"shape_Elongation\": 0.9301540225932452}, {\"shape_Elongation\": -1.3320628159989742}, {\"shape_Elongation\": 0.3288449232693728}, {\"shape_Elongation\": -0.7984202905773421}, {\"shape_Elongation\": -0.8820151290260687}, {\"shape_Elongation\": 0.9414594607799306}, {\"shape_Elongation\": -0.9886182243378304}, {\"shape_Elongation\": 0.1402721025278321}, {\"shape_Elongation\": -0.502691786550654}, {\"shape_Elongation\": 1.4418988354194546}, {\"shape_Elongation\": 0.7479400112254553}, {\"shape_Elongation\": 0.30392701008669964}, {\"shape_Elongation\": -1.6484380478059801}, {\"shape_Elongation\": 0.04237243637724876}, {\"shape_Elongation\": -0.8048904365024853}, {\"shape_Elongation\": 1.262260292836578}, {\"shape_Elongation\": -0.018498835080245735}, {\"shape_Elongation\": -2.7261343168007635}, {\"shape_Elongation\": -2.5832729551098845}, {\"shape_Elongation\": 0.9599253355175831}, {\"shape_Elongation\": -0.5815548989431626}, {\"shape_Elongation\": 1.0132772772716294}, {\"shape_Elongation\": 0.050329361274492626}, {\"shape_Elongation\": 0.5833106327176633}, {\"shape_Elongation\": -0.3109496663361855}, {\"shape_Elongation\": -1.1899953825415714}, {\"shape_Elongation\": 0.6492583777294507}, {\"shape_Elongation\": 0.08485927184871406}, {\"shape_Elongation\": -0.43868531625059975}, {\"shape_Elongation\": 1.419345030033998}, {\"shape_Elongation\": -0.1322553295464697}, {\"shape_Elongation\": 0.908787837326423}, {\"shape_Elongation\": 0.025377317637061338}, {\"shape_Elongation\": -0.43742724357126833}, {\"shape_Elongation\": 0.08289579768682105}, {\"shape_Elongation\": -0.1160340975565055}, {\"shape_Elongation\": 0.22236218045068745}, {\"shape_Elongation\": 1.3657104688864192}, {\"shape_Elongation\": 0.0660080049450999}, {\"shape_Elongation\": 1.0365763534103258}, {\"shape_Elongation\": 0.8081411890607283}, {\"shape_Elongation\": -0.40873586494544206}, {\"shape_Elongation\": 0.15086716702169783}, {\"shape_Elongation\": 0.41716087590505335}, {\"shape_Elongation\": 0.769835478471527}, {\"shape_Elongation\": 1.338265112593823}, {\"shape_Elongation\": 0.5995320550281764}, {\"shape_Elongation\": -0.8156965009168723}, {\"shape_Elongation\": 0.5580251522395954}, {\"shape_Elongation\": 0.35278025753577363}, {\"shape_Elongation\": 0.8964023073629978}, {\"shape_Elongation\": 0.10726781174288307}, {\"shape_Elongation\": -0.5897930500565076}]}}, {\"mode\": \"vega-lite\"});\n",
       "</script>"
      ],
      "text/plain": [
       "alt.Chart(...)"
      ]
     },
     "metadata": {},
     "output_type": "display_data"
    },
    {
     "data": {
      "text/html": [
       "\n",
       "<style>\n",
       "  #altair-viz-7946e53d5e5a46a6a3d0b02272f8100c.vega-embed {\n",
       "    width: 100%;\n",
       "    display: flex;\n",
       "  }\n",
       "\n",
       "  #altair-viz-7946e53d5e5a46a6a3d0b02272f8100c.vega-embed details,\n",
       "  #altair-viz-7946e53d5e5a46a6a3d0b02272f8100c.vega-embed details summary {\n",
       "    position: relative;\n",
       "  }\n",
       "</style>\n",
       "<div id=\"altair-viz-7946e53d5e5a46a6a3d0b02272f8100c\"></div>\n",
       "<script type=\"text/javascript\">\n",
       "  var VEGA_DEBUG = (typeof VEGA_DEBUG == \"undefined\") ? {} : VEGA_DEBUG;\n",
       "  (function(spec, embedOpt){\n",
       "    let outputDiv = document.currentScript.previousElementSibling;\n",
       "    if (outputDiv.id !== \"altair-viz-7946e53d5e5a46a6a3d0b02272f8100c\") {\n",
       "      outputDiv = document.getElementById(\"altair-viz-7946e53d5e5a46a6a3d0b02272f8100c\");\n",
       "    }\n",
       "\n",
       "    const paths = {\n",
       "      \"vega\": \"https://cdn.jsdelivr.net/npm/vega@5?noext\",\n",
       "      \"vega-lib\": \"https://cdn.jsdelivr.net/npm/vega-lib?noext\",\n",
       "      \"vega-lite\": \"https://cdn.jsdelivr.net/npm/vega-lite@5.20.1?noext\",\n",
       "      \"vega-embed\": \"https://cdn.jsdelivr.net/npm/vega-embed@6?noext\",\n",
       "    };\n",
       "\n",
       "    function maybeLoadScript(lib, version) {\n",
       "      var key = `${lib.replace(\"-\", \"\")}_version`;\n",
       "      return (VEGA_DEBUG[key] == version) ?\n",
       "        Promise.resolve(paths[lib]) :\n",
       "        new Promise(function(resolve, reject) {\n",
       "          var s = document.createElement('script');\n",
       "          document.getElementsByTagName(\"head\")[0].appendChild(s);\n",
       "          s.async = true;\n",
       "          s.onload = () => {\n",
       "            VEGA_DEBUG[key] = version;\n",
       "            return resolve(paths[lib]);\n",
       "          };\n",
       "          s.onerror = () => reject(`Error loading script: ${paths[lib]}`);\n",
       "          s.src = paths[lib];\n",
       "        });\n",
       "    }\n",
       "\n",
       "    function showError(err) {\n",
       "      outputDiv.innerHTML = `<div class=\"error\" style=\"color:red;\">${err}</div>`;\n",
       "      throw err;\n",
       "    }\n",
       "\n",
       "    function displayChart(vegaEmbed) {\n",
       "      vegaEmbed(outputDiv, spec, embedOpt)\n",
       "        .catch(err => showError(`Javascript Error: ${err.message}<br>This usually means there's a typo in your chart specification. See the javascript console for the full traceback.`));\n",
       "    }\n",
       "\n",
       "    if(typeof define === \"function\" && define.amd) {\n",
       "      requirejs.config({paths});\n",
       "      let deps = [\"vega-embed\"];\n",
       "      require(deps, displayChart, err => showError(`Error loading script: ${err.message}`));\n",
       "    } else {\n",
       "      maybeLoadScript(\"vega\", \"5\")\n",
       "        .then(() => maybeLoadScript(\"vega-lite\", \"5.20.1\"))\n",
       "        .then(() => maybeLoadScript(\"vega-embed\", \"6\"))\n",
       "        .catch(showError)\n",
       "        .then(() => displayChart(vegaEmbed));\n",
       "    }\n",
       "  })({\"config\": {\"view\": {\"continuousWidth\": 300, \"continuousHeight\": 300}}, \"data\": {\"name\": \"data-92e4fbe500277378eec9adcd3ad6f3d0\"}, \"mark\": {\"type\": \"bar\", \"tooltip\": true}, \"encoding\": {\"x\": {\"bin\": true, \"field\": \"shape_Flatness\", \"type\": \"quantitative\"}, \"y\": {\"aggregate\": \"count\", \"type\": \"quantitative\"}}, \"params\": [{\"name\": \"param_17\", \"select\": {\"type\": \"interval\", \"encodings\": [\"x\", \"y\"]}, \"bind\": \"scales\"}], \"$schema\": \"https://vega.github.io/schema/vega-lite/v5.20.1.json\", \"datasets\": {\"data-92e4fbe500277378eec9adcd3ad6f3d0\": [{\"shape_Flatness\": 0.9507955628216986}, {\"shape_Flatness\": -0.22279035921714554}, {\"shape_Flatness\": -0.4357660494813785}, {\"shape_Flatness\": 0.8368088403739548}, {\"shape_Flatness\": -0.44088186506927557}, {\"shape_Flatness\": 0.783213653089151}, {\"shape_Flatness\": -0.4145004533232543}, {\"shape_Flatness\": 0.8970049389235984}, {\"shape_Flatness\": 0.847407721256705}, {\"shape_Flatness\": 0.8771158334262195}, {\"shape_Flatness\": -0.9465599789380901}, {\"shape_Flatness\": 0.5417301760060432}, {\"shape_Flatness\": 0.3153894230570156}, {\"shape_Flatness\": 0.28769668441217633}, {\"shape_Flatness\": -0.9480049547473577}, {\"shape_Flatness\": -1.1297713948062853}, {\"shape_Flatness\": 0.5123808188701449}, {\"shape_Flatness\": -0.37441593551168806}, {\"shape_Flatness\": -0.2776623137115912}, {\"shape_Flatness\": -0.5092133198074184}, {\"shape_Flatness\": 1.783224596216075}, {\"shape_Flatness\": -1.3779424312267616}, {\"shape_Flatness\": 0.5667190342398933}, {\"shape_Flatness\": -0.458813224105126}, {\"shape_Flatness\": -0.4724277028080111}, {\"shape_Flatness\": 0.09148976843604174}, {\"shape_Flatness\": 0.14106377336055592}, {\"shape_Flatness\": -0.5769553505657871}, {\"shape_Flatness\": 1.6449610993447983}, {\"shape_Flatness\": -0.5881379124359313}, {\"shape_Flatness\": -1.1880970394077617}, {\"shape_Flatness\": -0.5361047902714006}, {\"shape_Flatness\": -1.3467612951454437}, {\"shape_Flatness\": 0.13793829903175425}, {\"shape_Flatness\": -2.8401418328481873}, {\"shape_Flatness\": 0.5005099610259656}, {\"shape_Flatness\": -0.801778831756137}, {\"shape_Flatness\": 1.283671137248004}, {\"shape_Flatness\": -2.040065101474773}, {\"shape_Flatness\": 0.5156981048634951}, {\"shape_Flatness\": 1.3825136403479665}, {\"shape_Flatness\": 0.4615713801976643}, {\"shape_Flatness\": -0.18920413772534353}, {\"shape_Flatness\": -0.35036826962811013}, {\"shape_Flatness\": 0.414210373465707}, {\"shape_Flatness\": -2.918365635972874}, {\"shape_Flatness\": 0.07492979282587878}, {\"shape_Flatness\": 0.9932718263872498}, {\"shape_Flatness\": -0.08306325470620245}, {\"shape_Flatness\": -0.4195428804550646}, {\"shape_Flatness\": -1.9005483249641009}, {\"shape_Flatness\": -2.193044034697176}, {\"shape_Flatness\": -0.30484447338974124}, {\"shape_Flatness\": 0.3525874954867478}, {\"shape_Flatness\": 0.04713786744184341}, {\"shape_Flatness\": -1.816094309113734}, {\"shape_Flatness\": -0.6473713822506288}, {\"shape_Flatness\": -2.344119795422603}, {\"shape_Flatness\": 1.2163421503626624}, {\"shape_Flatness\": 0.9631429038273733}, {\"shape_Flatness\": 1.4649382984397723}, {\"shape_Flatness\": 1.180088380476611}, {\"shape_Flatness\": 0.45438427368120016}, {\"shape_Flatness\": 0.05693396258493886}, {\"shape_Flatness\": -0.14614508693344336}, {\"shape_Flatness\": -1.1289338554132715}, {\"shape_Flatness\": 1.9931447705180418}, {\"shape_Flatness\": -0.14800039684429248}, {\"shape_Flatness\": 0.014467856801172407}, {\"shape_Flatness\": 0.2883658812331074}, {\"shape_Flatness\": 0.5964161200263322}, {\"shape_Flatness\": -1.5444974502342155}, {\"shape_Flatness\": 1.222461664743799}, {\"shape_Flatness\": 0.8222624748900448}, {\"shape_Flatness\": 1.951550826035258}, {\"shape_Flatness\": 1.5192160623771802}, {\"shape_Flatness\": 1.155179607790535}, {\"shape_Flatness\": 0.835834758590193}, {\"shape_Flatness\": 0.5920479319983641}, {\"shape_Flatness\": 1.375638363757413}, {\"shape_Flatness\": 0.7068701284132936}, {\"shape_Flatness\": 0.8326853980094382}, {\"shape_Flatness\": 0.9563584836883106}, {\"shape_Flatness\": -0.6320327569166505}, {\"shape_Flatness\": 0.8958142537393249}, {\"shape_Flatness\": 0.36565334133545635}, {\"shape_Flatness\": -0.14172000382572797}, {\"shape_Flatness\": -0.17193835132441365}, {\"shape_Flatness\": -0.38020869768064663}, {\"shape_Flatness\": -0.5681376145560677}, {\"shape_Flatness\": -1.0370556325257274}, {\"shape_Flatness\": -0.37714842488567585}, {\"shape_Flatness\": 0.7396446715189603}, {\"shape_Flatness\": 0.12580419549870792}, {\"shape_Flatness\": -1.454055901578542}, {\"shape_Flatness\": -2.2872508082922174}, {\"shape_Flatness\": 0.7431394422660017}, {\"shape_Flatness\": 0.9985684854020773}, {\"shape_Flatness\": 0.4713633686500729}, {\"shape_Flatness\": 0.4615421266139699}, {\"shape_Flatness\": 1.1589583715368466}, {\"shape_Flatness\": -1.8005471085850029}, {\"shape_Flatness\": 0.005518018007551479}, {\"shape_Flatness\": -1.6295017751439895}, {\"shape_Flatness\": 1.633631851227238}, {\"shape_Flatness\": -0.7812380064547156}, {\"shape_Flatness\": -2.97701721656058}, {\"shape_Flatness\": 0.6202934947813579}, {\"shape_Flatness\": -2.292814321479223}, {\"shape_Flatness\": -0.47323658921575745}, {\"shape_Flatness\": -0.42393330977407817}, {\"shape_Flatness\": 2.1113228920753198}, {\"shape_Flatness\": 0.6713085889759756}, {\"shape_Flatness\": 0.021052975310850208}, {\"shape_Flatness\": -2.5915161575977033}, {\"shape_Flatness\": 0.33001779525380337}, {\"shape_Flatness\": 0.8107149060575242}, {\"shape_Flatness\": -0.8839533990788235}, {\"shape_Flatness\": 1.178228766183429}, {\"shape_Flatness\": 1.1218444720198602}, {\"shape_Flatness\": -1.8585831355265403}, {\"shape_Flatness\": -1.7676618882192134}, {\"shape_Flatness\": 0.494482381953638}, {\"shape_Flatness\": 0.7498148043837575}, {\"shape_Flatness\": -0.039581734254109394}, {\"shape_Flatness\": -0.4724865622172074}, {\"shape_Flatness\": -0.8965982696737339}, {\"shape_Flatness\": -1.0842700122125635}, {\"shape_Flatness\": -0.6110066211473524}, {\"shape_Flatness\": 0.526858638717023}, {\"shape_Flatness\": -0.9491866287513161}, {\"shape_Flatness\": 0.36488521204366964}, {\"shape_Flatness\": -0.15306265038646744}, {\"shape_Flatness\": -1.0033151082109963}, {\"shape_Flatness\": 0.45004816656527286}, {\"shape_Flatness\": 0.9916142325804557}, {\"shape_Flatness\": -0.9377975406975413}, {\"shape_Flatness\": 0.45140546032084566}, {\"shape_Flatness\": 0.19593768821100102}, {\"shape_Flatness\": 0.7630439066431691}, {\"shape_Flatness\": 0.3640248733420558}, {\"shape_Flatness\": 0.6547460940905886}, {\"shape_Flatness\": 0.4120418612759125}, {\"shape_Flatness\": -1.4120406083757338}, {\"shape_Flatness\": 1.0122190881760391}, {\"shape_Flatness\": 0.4796882522293151}, {\"shape_Flatness\": 0.9156858615623775}, {\"shape_Flatness\": 0.577626070876827}, {\"shape_Flatness\": -2.4696528488103024}, {\"shape_Flatness\": 0.058982795603530584}, {\"shape_Flatness\": -1.0930646765940368}, {\"shape_Flatness\": -0.11017455519133128}, {\"shape_Flatness\": -1.0997669460747344}, {\"shape_Flatness\": 0.6914244022480974}, {\"shape_Flatness\": 0.121232322933197}, {\"shape_Flatness\": -0.37497888471683655}, {\"shape_Flatness\": 0.7747274743877399}, {\"shape_Flatness\": 0.77809529795363}, {\"shape_Flatness\": -0.9077940033643896}, {\"shape_Flatness\": 1.4505456399709808}, {\"shape_Flatness\": 0.13476674979839717}, {\"shape_Flatness\": -0.9988233562366314}, {\"shape_Flatness\": 1.034197202671376}, {\"shape_Flatness\": -0.11536837446396542}, {\"shape_Flatness\": -0.3842711028228038}, {\"shape_Flatness\": -0.5851112377870786}, {\"shape_Flatness\": 0.05088035525316582}, {\"shape_Flatness\": 1.5108798086577169}, {\"shape_Flatness\": 0.5994609541530774}, {\"shape_Flatness\": -0.6636375235811788}, {\"shape_Flatness\": 0.1920093348893596}, {\"shape_Flatness\": -0.5331293607615164}, {\"shape_Flatness\": -0.10129808830109084}, {\"shape_Flatness\": 0.8258241082070714}, {\"shape_Flatness\": -0.9043547450871708}, {\"shape_Flatness\": -1.16049241680882}, {\"shape_Flatness\": 1.214584949849208}, {\"shape_Flatness\": 1.1195551054655206}, {\"shape_Flatness\": -0.7591722396320623}, {\"shape_Flatness\": 0.16869930016681695}, {\"shape_Flatness\": -0.6762169848777708}, {\"shape_Flatness\": 1.5830590431004439}, {\"shape_Flatness\": 0.9186779298686446}, {\"shape_Flatness\": 1.1179602135382565}, {\"shape_Flatness\": 1.272942998301931}, {\"shape_Flatness\": 0.03099317250037659}, {\"shape_Flatness\": 0.3086898228807223}, {\"shape_Flatness\": -1.6809852297259618}, {\"shape_Flatness\": -1.3053719877346321}, {\"shape_Flatness\": 0.29781988368998336}, {\"shape_Flatness\": 0.14057185874090056}, {\"shape_Flatness\": -0.0931288119994508}, {\"shape_Flatness\": 1.3521049726952308}, {\"shape_Flatness\": -0.49634351429202406}, {\"shape_Flatness\": -1.1507670178528988}, {\"shape_Flatness\": 0.018617949620123565}, {\"shape_Flatness\": 0.42160342898439374}, {\"shape_Flatness\": 1.2751179732308942}, {\"shape_Flatness\": 0.5453215617436195}, {\"shape_Flatness\": 0.6688182519952475}, {\"shape_Flatness\": 0.3750435618092596}, {\"shape_Flatness\": 1.4887029615171286}, {\"shape_Flatness\": -1.0339655552821152}, {\"shape_Flatness\": 0.6746835897375204}, {\"shape_Flatness\": 2.2318970011581625}, {\"shape_Flatness\": -0.33503403010090993}, {\"shape_Flatness\": -0.6250962382755416}, {\"shape_Flatness\": 0.8846601001603169}, {\"shape_Flatness\": -2.0853500873174475}, {\"shape_Flatness\": 0.8789158904662336}, {\"shape_Flatness\": -2.547929254120926}, {\"shape_Flatness\": -0.40472479417485396}, {\"shape_Flatness\": -0.42690164278613324}, {\"shape_Flatness\": -1.7023517825257526}, {\"shape_Flatness\": -0.17291419571957894}, {\"shape_Flatness\": -0.8628964446530913}, {\"shape_Flatness\": 0.343430196861406}, {\"shape_Flatness\": -0.7181565253132389}, {\"shape_Flatness\": -0.2862395530258134}, {\"shape_Flatness\": 0.9105889338560261}, {\"shape_Flatness\": 0.1788537662457995}, {\"shape_Flatness\": 0.4602882825513084}, {\"shape_Flatness\": -1.0911896045448513}, {\"shape_Flatness\": -0.0030321140620675514}, {\"shape_Flatness\": 1.0905932370959832}, {\"shape_Flatness\": 0.18576313259920305}, {\"shape_Flatness\": 0.4673760486073163}, {\"shape_Flatness\": 0.6411230398337124}, {\"shape_Flatness\": 0.7541210150373793}, {\"shape_Flatness\": 0.14389837810409115}, {\"shape_Flatness\": -0.04217169788665082}, {\"shape_Flatness\": 0.7443543594230246}, {\"shape_Flatness\": 0.24965518954242635}, {\"shape_Flatness\": -1.1700463995674777}, {\"shape_Flatness\": 0.2932047162394676}, {\"shape_Flatness\": 0.6868587260986143}, {\"shape_Flatness\": -0.45549098778492536}, {\"shape_Flatness\": 1.5076038608209692}, {\"shape_Flatness\": 0.5004904364675062}, {\"shape_Flatness\": -0.2676266044730203}, {\"shape_Flatness\": 0.6998773675255869}, {\"shape_Flatness\": 0.9725718563251602}, {\"shape_Flatness\": -0.7071659346470706}, {\"shape_Flatness\": 0.2026481156495971}, {\"shape_Flatness\": -0.8063174329259729}, {\"shape_Flatness\": -0.2786170618138982}, {\"shape_Flatness\": 0.5067638687898837}, {\"shape_Flatness\": -0.9370029066421077}, {\"shape_Flatness\": 0.2954914930021386}, {\"shape_Flatness\": 0.02039879387026759}, {\"shape_Flatness\": 0.6087269196102061}, {\"shape_Flatness\": -0.6667221503009922}, {\"shape_Flatness\": 0.1292778412683692}, {\"shape_Flatness\": -1.4863578823428332}, {\"shape_Flatness\": 0.15683978575066657}, {\"shape_Flatness\": -0.612303139370312}, {\"shape_Flatness\": 0.0661487817942685}, {\"shape_Flatness\": 0.5764116042566053}, {\"shape_Flatness\": -2.488490785093265}, {\"shape_Flatness\": -2.1248453129835387}, {\"shape_Flatness\": 1.5766993935189817}, {\"shape_Flatness\": -0.6214105353116014}, {\"shape_Flatness\": 1.7919912986802633}, {\"shape_Flatness\": 0.5610881651718984}, {\"shape_Flatness\": -0.6384784619244789}, {\"shape_Flatness\": -0.45495137048067374}, {\"shape_Flatness\": -1.3398217385513271}, {\"shape_Flatness\": 0.6662289177998723}, {\"shape_Flatness\": -0.07550244876061069}, {\"shape_Flatness\": -1.6710055878341972}, {\"shape_Flatness\": 1.4430276336614576}, {\"shape_Flatness\": -0.6679353326946429}, {\"shape_Flatness\": 0.557812838927175}, {\"shape_Flatness\": 0.7391161444085196}, {\"shape_Flatness\": -0.09094888106645438}, {\"shape_Flatness\": 0.7184147769988585}, {\"shape_Flatness\": 0.9568539976538901}, {\"shape_Flatness\": 0.4242415618012229}, {\"shape_Flatness\": 0.39817272348427857}, {\"shape_Flatness\": -0.1394896675199536}, {\"shape_Flatness\": 0.11809559222810291}, {\"shape_Flatness\": 1.424211344738167}, {\"shape_Flatness\": 0.24452779780978387}, {\"shape_Flatness\": 0.102188162713203}, {\"shape_Flatness\": -1.4389662912494132}, {\"shape_Flatness\": 0.7821231769658846}, {\"shape_Flatness\": 0.9525978012037889}, {\"shape_Flatness\": 0.5701888962953721}, {\"shape_Flatness\": -0.5574810815339231}, {\"shape_Flatness\": 0.41563544994779195}, {\"shape_Flatness\": -1.1071840314068813}, {\"shape_Flatness\": 0.32068346400371645}, {\"shape_Flatness\": 0.5720350125352853}, {\"shape_Flatness\": -0.29342686320719835}]}}, {\"mode\": \"vega-lite\"});\n",
       "</script>"
      ],
      "text/plain": [
       "alt.Chart(...)"
      ]
     },
     "metadata": {},
     "output_type": "display_data"
    },
    {
     "data": {
      "text/html": [
       "\n",
       "<style>\n",
       "  #altair-viz-45c5a809302e4d2e811b84d1133b723f.vega-embed {\n",
       "    width: 100%;\n",
       "    display: flex;\n",
       "  }\n",
       "\n",
       "  #altair-viz-45c5a809302e4d2e811b84d1133b723f.vega-embed details,\n",
       "  #altair-viz-45c5a809302e4d2e811b84d1133b723f.vega-embed details summary {\n",
       "    position: relative;\n",
       "  }\n",
       "</style>\n",
       "<div id=\"altair-viz-45c5a809302e4d2e811b84d1133b723f\"></div>\n",
       "<script type=\"text/javascript\">\n",
       "  var VEGA_DEBUG = (typeof VEGA_DEBUG == \"undefined\") ? {} : VEGA_DEBUG;\n",
       "  (function(spec, embedOpt){\n",
       "    let outputDiv = document.currentScript.previousElementSibling;\n",
       "    if (outputDiv.id !== \"altair-viz-45c5a809302e4d2e811b84d1133b723f\") {\n",
       "      outputDiv = document.getElementById(\"altair-viz-45c5a809302e4d2e811b84d1133b723f\");\n",
       "    }\n",
       "\n",
       "    const paths = {\n",
       "      \"vega\": \"https://cdn.jsdelivr.net/npm/vega@5?noext\",\n",
       "      \"vega-lib\": \"https://cdn.jsdelivr.net/npm/vega-lib?noext\",\n",
       "      \"vega-lite\": \"https://cdn.jsdelivr.net/npm/vega-lite@5.20.1?noext\",\n",
       "      \"vega-embed\": \"https://cdn.jsdelivr.net/npm/vega-embed@6?noext\",\n",
       "    };\n",
       "\n",
       "    function maybeLoadScript(lib, version) {\n",
       "      var key = `${lib.replace(\"-\", \"\")}_version`;\n",
       "      return (VEGA_DEBUG[key] == version) ?\n",
       "        Promise.resolve(paths[lib]) :\n",
       "        new Promise(function(resolve, reject) {\n",
       "          var s = document.createElement('script');\n",
       "          document.getElementsByTagName(\"head\")[0].appendChild(s);\n",
       "          s.async = true;\n",
       "          s.onload = () => {\n",
       "            VEGA_DEBUG[key] = version;\n",
       "            return resolve(paths[lib]);\n",
       "          };\n",
       "          s.onerror = () => reject(`Error loading script: ${paths[lib]}`);\n",
       "          s.src = paths[lib];\n",
       "        });\n",
       "    }\n",
       "\n",
       "    function showError(err) {\n",
       "      outputDiv.innerHTML = `<div class=\"error\" style=\"color:red;\">${err}</div>`;\n",
       "      throw err;\n",
       "    }\n",
       "\n",
       "    function displayChart(vegaEmbed) {\n",
       "      vegaEmbed(outputDiv, spec, embedOpt)\n",
       "        .catch(err => showError(`Javascript Error: ${err.message}<br>This usually means there's a typo in your chart specification. See the javascript console for the full traceback.`));\n",
       "    }\n",
       "\n",
       "    if(typeof define === \"function\" && define.amd) {\n",
       "      requirejs.config({paths});\n",
       "      let deps = [\"vega-embed\"];\n",
       "      require(deps, displayChart, err => showError(`Error loading script: ${err.message}`));\n",
       "    } else {\n",
       "      maybeLoadScript(\"vega\", \"5\")\n",
       "        .then(() => maybeLoadScript(\"vega-lite\", \"5.20.1\"))\n",
       "        .then(() => maybeLoadScript(\"vega-embed\", \"6\"))\n",
       "        .catch(showError)\n",
       "        .then(() => displayChart(vegaEmbed));\n",
       "    }\n",
       "  })({\"config\": {\"view\": {\"continuousWidth\": 300, \"continuousHeight\": 300}}, \"data\": {\"name\": \"data-a8faefdaf319b69092ccafdb317b0567\"}, \"mark\": {\"type\": \"bar\", \"tooltip\": true}, \"encoding\": {\"x\": {\"bin\": true, \"field\": \"shape_LeastAxisLength\", \"type\": \"quantitative\"}, \"y\": {\"aggregate\": \"count\", \"type\": \"quantitative\"}}, \"params\": [{\"name\": \"param_18\", \"select\": {\"type\": \"interval\", \"encodings\": [\"x\", \"y\"]}, \"bind\": \"scales\"}], \"$schema\": \"https://vega.github.io/schema/vega-lite/v5.20.1.json\", \"datasets\": {\"data-a8faefdaf319b69092ccafdb317b0567\": [{\"shape_LeastAxisLength\": 0.03823346163787438}, {\"shape_LeastAxisLength\": 0.2244529053386018}, {\"shape_LeastAxisLength\": 1.1168216419411099}, {\"shape_LeastAxisLength\": 1.1415121639538293}, {\"shape_LeastAxisLength\": -1.0038983580380492}, {\"shape_LeastAxisLength\": -0.009692786502947736}, {\"shape_LeastAxisLength\": -0.1689350741603038}, {\"shape_LeastAxisLength\": -0.12456940274670593}, {\"shape_LeastAxisLength\": 1.133604275790729}, {\"shape_LeastAxisLength\": 0.31973158169197746}, {\"shape_LeastAxisLength\": -0.837612283648954}, {\"shape_LeastAxisLength\": -1.1041229132233021}, {\"shape_LeastAxisLength\": 0.22428230460128917}, {\"shape_LeastAxisLength\": -0.5735482597157755}, {\"shape_LeastAxisLength\": -0.6969743483829963}, {\"shape_LeastAxisLength\": -1.1535250043141032}, {\"shape_LeastAxisLength\": 1.9825915561051897}, {\"shape_LeastAxisLength\": -0.2975432728495496}, {\"shape_LeastAxisLength\": -1.9554929644558607}, {\"shape_LeastAxisLength\": 1.569132456233099}, {\"shape_LeastAxisLength\": -0.9034886395490935}, {\"shape_LeastAxisLength\": -0.2479780939827346}, {\"shape_LeastAxisLength\": 0.4453305294866491}, {\"shape_LeastAxisLength\": -0.05137532693233135}, {\"shape_LeastAxisLength\": -1.1379755897026398}, {\"shape_LeastAxisLength\": 0.7719758097023236}, {\"shape_LeastAxisLength\": -0.46058527491679335}, {\"shape_LeastAxisLength\": 1.7077064207468549}, {\"shape_LeastAxisLength\": 0.44770702780251853}, {\"shape_LeastAxisLength\": -0.7648521996144092}, {\"shape_LeastAxisLength\": -0.5335857624114422}, {\"shape_LeastAxisLength\": -1.1756117062487834}, {\"shape_LeastAxisLength\": -0.7331598661871194}, {\"shape_LeastAxisLength\": 1.4685348812161891}, {\"shape_LeastAxisLength\": 0.04962156305208093}, {\"shape_LeastAxisLength\": -0.921922430267728}, {\"shape_LeastAxisLength\": -1.1592597737439287}, {\"shape_LeastAxisLength\": 0.7397734049172073}, {\"shape_LeastAxisLength\": -2.0521760900672703}, {\"shape_LeastAxisLength\": -1.4941160157600692}, {\"shape_LeastAxisLength\": 1.547839966437392}, {\"shape_LeastAxisLength\": 1.4664754479753954}, {\"shape_LeastAxisLength\": 0.0021903591749885486}, {\"shape_LeastAxisLength\": -0.21279304671660057}, {\"shape_LeastAxisLength\": 1.6785294820010148}, {\"shape_LeastAxisLength\": -1.843750794436141}, {\"shape_LeastAxisLength\": -0.11955197938145157}, {\"shape_LeastAxisLength\": 0.6402103355768823}, {\"shape_LeastAxisLength\": 0.16516374493237634}, {\"shape_LeastAxisLength\": -0.15167225182225447}, {\"shape_LeastAxisLength\": -0.4529457951269437}, {\"shape_LeastAxisLength\": -0.6099316271189138}, {\"shape_LeastAxisLength\": 0.24484229839700133}, {\"shape_LeastAxisLength\": 1.3663516642475486}, {\"shape_LeastAxisLength\": -0.6939372636089948}, {\"shape_LeastAxisLength\": -1.7635186566878667}, {\"shape_LeastAxisLength\": 1.050204918091371}, {\"shape_LeastAxisLength\": -0.2765522038792854}, {\"shape_LeastAxisLength\": 0.459045963674855}, {\"shape_LeastAxisLength\": -0.39549666164448904}, {\"shape_LeastAxisLength\": -0.8898129949278305}, {\"shape_LeastAxisLength\": 2.701586174017823}, {\"shape_LeastAxisLength\": 0.005050856106437673}, {\"shape_LeastAxisLength\": 0.6084421293733624}, {\"shape_LeastAxisLength\": -0.2941834192759695}, {\"shape_LeastAxisLength\": 0.213834154425249}, {\"shape_LeastAxisLength\": -0.4995443939453056}, {\"shape_LeastAxisLength\": -0.8012948353096413}, {\"shape_LeastAxisLength\": 0.23151011994920384}, {\"shape_LeastAxisLength\": 0.9009556035740006}, {\"shape_LeastAxisLength\": 0.27693497327782995}, {\"shape_LeastAxisLength\": -1.0953516640430006}, {\"shape_LeastAxisLength\": 0.07110141938148465}, {\"shape_LeastAxisLength\": 1.3200090522569605}, {\"shape_LeastAxisLength\": 3.4986331640498336}, {\"shape_LeastAxisLength\": 1.4466627211738288}, {\"shape_LeastAxisLength\": -1.275771462055209}, {\"shape_LeastAxisLength\": 0.09419060144861145}, {\"shape_LeastAxisLength\": 0.06331711997875948}, {\"shape_LeastAxisLength\": 0.023679339085556143}, {\"shape_LeastAxisLength\": 1.5025558995910813}, {\"shape_LeastAxisLength\": 0.6193387872051265}, {\"shape_LeastAxisLength\": 1.515344776000977}, {\"shape_LeastAxisLength\": -0.842605806087574}, {\"shape_LeastAxisLength\": 0.32939466973733306}, {\"shape_LeastAxisLength\": -1.6557219620678494}, {\"shape_LeastAxisLength\": 0.32447577507510134}, {\"shape_LeastAxisLength\": 0.5088424068643842}, {\"shape_LeastAxisLength\": 1.057955272249762}, {\"shape_LeastAxisLength\": -0.6961470668995855}, {\"shape_LeastAxisLength\": -0.8629452761632652}, {\"shape_LeastAxisLength\": -0.47027278582905485}, {\"shape_LeastAxisLength\": 0.22945548298982268}, {\"shape_LeastAxisLength\": 0.29004897886478176}, {\"shape_LeastAxisLength\": -0.421447789228591}, {\"shape_LeastAxisLength\": 0.09758789766714492}, {\"shape_LeastAxisLength\": 2.0928669574001275}, {\"shape_LeastAxisLength\": 1.77139217872699}, {\"shape_LeastAxisLength\": -1.2919605597957904}, {\"shape_LeastAxisLength\": -1.1914156536085134}, {\"shape_LeastAxisLength\": 1.732685670300984}, {\"shape_LeastAxisLength\": -0.09267275952395518}, {\"shape_LeastAxisLength\": -0.2765440613230285}, {\"shape_LeastAxisLength\": -0.8897961419262275}, {\"shape_LeastAxisLength\": 0.26646073276839694}, {\"shape_LeastAxisLength\": -0.2691750637272131}, {\"shape_LeastAxisLength\": -2.027898445017178}, {\"shape_LeastAxisLength\": -0.5522562478823757}, {\"shape_LeastAxisLength\": -1.7297696728833225}, {\"shape_LeastAxisLength\": -1.1060873349769598}, {\"shape_LeastAxisLength\": -0.5385495199628145}, {\"shape_LeastAxisLength\": 1.3119727350748869}, {\"shape_LeastAxisLength\": -1.1278072506656134}, {\"shape_LeastAxisLength\": -0.14626477223692658}, {\"shape_LeastAxisLength\": -0.06567948810618039}, {\"shape_LeastAxisLength\": -0.33389420139648907}, {\"shape_LeastAxisLength\": -0.026026857963936317}, {\"shape_LeastAxisLength\": -0.8074321263688192}, {\"shape_LeastAxisLength\": -1.2429552797461312}, {\"shape_LeastAxisLength\": 1.2717339493474284}, {\"shape_LeastAxisLength\": -1.0750366031948253}, {\"shape_LeastAxisLength\": -1.1615840370337702}, {\"shape_LeastAxisLength\": -1.5059667570913025}, {\"shape_LeastAxisLength\": 2.8870318900264995}, {\"shape_LeastAxisLength\": -0.865273936531024}, {\"shape_LeastAxisLength\": -0.1137922970404289}, {\"shape_LeastAxisLength\": -1.080583313449499}, {\"shape_LeastAxisLength\": -0.448933780610629}, {\"shape_LeastAxisLength\": 0.5908884330442916}, {\"shape_LeastAxisLength\": 1.314614938045717}, {\"shape_LeastAxisLength\": -1.5524608193310032}, {\"shape_LeastAxisLength\": -1.0067443034945096}, {\"shape_LeastAxisLength\": 1.0771904835033093}, {\"shape_LeastAxisLength\": -0.678288953738059}, {\"shape_LeastAxisLength\": -0.6674635796122715}, {\"shape_LeastAxisLength\": 1.9830373230065739}, {\"shape_LeastAxisLength\": -0.32270084791191816}, {\"shape_LeastAxisLength\": 0.3080657512934294}, {\"shape_LeastAxisLength\": -1.3491729309837228}, {\"shape_LeastAxisLength\": 0.5432769260395116}, {\"shape_LeastAxisLength\": -0.6855791217462585}, {\"shape_LeastAxisLength\": 1.180234697818206}, {\"shape_LeastAxisLength\": 0.51718724091032}, {\"shape_LeastAxisLength\": -1.1518137859321196}, {\"shape_LeastAxisLength\": -1.1442697361500058}, {\"shape_LeastAxisLength\": 0.0054379241221511445}, {\"shape_LeastAxisLength\": 0.6904892722331166}, {\"shape_LeastAxisLength\": 1.0991916403163138}, {\"shape_LeastAxisLength\": -1.0252024738017755}, {\"shape_LeastAxisLength\": -0.7154012305128815}, {\"shape_LeastAxisLength\": -0.0999923274271444}, {\"shape_LeastAxisLength\": -0.7431552950528242}, {\"shape_LeastAxisLength\": -0.05162662094709644}, {\"shape_LeastAxisLength\": 0.6838806720462869}, {\"shape_LeastAxisLength\": 1.7011825780818337}, {\"shape_LeastAxisLength\": 0.28043125350236126}, {\"shape_LeastAxisLength\": 0.16353700274759328}, {\"shape_LeastAxisLength\": -1.1990431189344424}, {\"shape_LeastAxisLength\": -0.10226397887097562}, {\"shape_LeastAxisLength\": 0.5593163467561523}, {\"shape_LeastAxisLength\": 1.458265264093515}, {\"shape_LeastAxisLength\": -0.08782678096518949}, {\"shape_LeastAxisLength\": 0.006313676856251303}, {\"shape_LeastAxisLength\": 1.01674968688012}, {\"shape_LeastAxisLength\": -0.4291035630520756}, {\"shape_LeastAxisLength\": 0.0762568979802165}, {\"shape_LeastAxisLength\": 1.8156956302230793}, {\"shape_LeastAxisLength\": 0.7938783227133542}, {\"shape_LeastAxisLength\": -0.44326634075140864}, {\"shape_LeastAxisLength\": -1.0236122538151688}, {\"shape_LeastAxisLength\": 0.515076297640843}, {\"shape_LeastAxisLength\": -0.3951852017136753}, {\"shape_LeastAxisLength\": 1.1968095378883459}, {\"shape_LeastAxisLength\": -1.2420901797026789}, {\"shape_LeastAxisLength\": -0.7461861915459986}, {\"shape_LeastAxisLength\": -0.4295640516401985}, {\"shape_LeastAxisLength\": 2.0639158282828816}, {\"shape_LeastAxisLength\": -1.4409939968527967}, {\"shape_LeastAxisLength\": -1.5348869519294812}, {\"shape_LeastAxisLength\": 0.8178874599318838}, {\"shape_LeastAxisLength\": -0.30320404267474277}, {\"shape_LeastAxisLength\": 1.0295325116045912}, {\"shape_LeastAxisLength\": 1.6782390425236593}, {\"shape_LeastAxisLength\": 0.397487229492257}, {\"shape_LeastAxisLength\": -0.28290681776493465}, {\"shape_LeastAxisLength\": -0.11886352171905323}, {\"shape_LeastAxisLength\": -0.8585041265241593}, {\"shape_LeastAxisLength\": -0.6026739539684463}, {\"shape_LeastAxisLength\": 0.4287532831828508}, {\"shape_LeastAxisLength\": -0.7764071255066166}, {\"shape_LeastAxisLength\": 0.29394638467044665}, {\"shape_LeastAxisLength\": -0.5588236925887988}, {\"shape_LeastAxisLength\": 2.9560102608356}, {\"shape_LeastAxisLength\": 0.7051701017839969}, {\"shape_LeastAxisLength\": -0.09011447217511016}, {\"shape_LeastAxisLength\": -1.1260296182494056}, {\"shape_LeastAxisLength\": -0.5799420505591891}, {\"shape_LeastAxisLength\": 1.7789439985212567}, {\"shape_LeastAxisLength\": 0.640806131596489}, {\"shape_LeastAxisLength\": 0.7101740641023006}, {\"shape_LeastAxisLength\": -0.6275258104093433}, {\"shape_LeastAxisLength\": 1.5659171450519345}, {\"shape_LeastAxisLength\": -0.871468468439492}, {\"shape_LeastAxisLength\": 0.12501815082090903}, {\"shape_LeastAxisLength\": 1.4148916170002876}, {\"shape_LeastAxisLength\": -0.12635025789806453}, {\"shape_LeastAxisLength\": 0.8812392815998472}, {\"shape_LeastAxisLength\": 0.02071908478635457}, {\"shape_LeastAxisLength\": -1.908815331412455}, {\"shape_LeastAxisLength\": -0.09264029301916792}, {\"shape_LeastAxisLength\": -1.8186823678484687}, {\"shape_LeastAxisLength\": -0.2964196834308935}, {\"shape_LeastAxisLength\": -0.732218190981849}, {\"shape_LeastAxisLength\": -0.43126872717168696}, {\"shape_LeastAxisLength\": 0.33464646060507863}, {\"shape_LeastAxisLength\": 0.562196951520476}, {\"shape_LeastAxisLength\": 1.0827562957631591}, {\"shape_LeastAxisLength\": -0.3374599823877911}, {\"shape_LeastAxisLength\": 0.4918587703030262}, {\"shape_LeastAxisLength\": 0.6540931758663057}, {\"shape_LeastAxisLength\": 0.36886435752994545}, {\"shape_LeastAxisLength\": 0.6959519600936878}, {\"shape_LeastAxisLength\": -0.5417454729945375}, {\"shape_LeastAxisLength\": -0.07304196048827015}, {\"shape_LeastAxisLength\": 0.5290807481522404}, {\"shape_LeastAxisLength\": -0.2729658387356866}, {\"shape_LeastAxisLength\": -0.6289704917040299}, {\"shape_LeastAxisLength\": 1.453744914139667}, {\"shape_LeastAxisLength\": 3.0270075032181603}, {\"shape_LeastAxisLength\": 0.33006242561570104}, {\"shape_LeastAxisLength\": -0.03737152481661087}, {\"shape_LeastAxisLength\": 0.885468917563342}, {\"shape_LeastAxisLength\": -1.1210821057558014}, {\"shape_LeastAxisLength\": -0.2330108980016697}, {\"shape_LeastAxisLength\": -1.0939817172405333}, {\"shape_LeastAxisLength\": -0.4468237055912135}, {\"shape_LeastAxisLength\": 0.3226309830421718}, {\"shape_LeastAxisLength\": -0.2817314907514347}, {\"shape_LeastAxisLength\": 1.069932618691859}, {\"shape_LeastAxisLength\": -0.6000344806448136}, {\"shape_LeastAxisLength\": -0.8191720281587624}, {\"shape_LeastAxisLength\": 0.27127500552940137}, {\"shape_LeastAxisLength\": -0.3569928517116322}, {\"shape_LeastAxisLength\": -0.9902205425739136}, {\"shape_LeastAxisLength\": -0.02361305991155559}, {\"shape_LeastAxisLength\": -0.182125558820285}, {\"shape_LeastAxisLength\": -0.19646120751388996}, {\"shape_LeastAxisLength\": -0.8834098655289662}, {\"shape_LeastAxisLength\": -0.6203437047199079}, {\"shape_LeastAxisLength\": 0.660641143167643}, {\"shape_LeastAxisLength\": 2.2986407091942604}, {\"shape_LeastAxisLength\": -1.4232163179256943}, {\"shape_LeastAxisLength\": 2.1601083103979617}, {\"shape_LeastAxisLength\": -1.256371290177716}, {\"shape_LeastAxisLength\": 0.16435183728686753}, {\"shape_LeastAxisLength\": -0.05739693297165327}, {\"shape_LeastAxisLength\": -1.2341839518830944}, {\"shape_LeastAxisLength\": 0.688471970893435}, {\"shape_LeastAxisLength\": -0.3728758558346673}, {\"shape_LeastAxisLength\": -0.7070222106520333}, {\"shape_LeastAxisLength\": -0.4502153789142217}, {\"shape_LeastAxisLength\": -0.3980832221962077}, {\"shape_LeastAxisLength\": -0.8881544647980062}, {\"shape_LeastAxisLength\": 0.02824655701025234}, {\"shape_LeastAxisLength\": -0.8326017449325361}, {\"shape_LeastAxisLength\": 1.4414643591049925}, {\"shape_LeastAxisLength\": -1.6979740122002203}, {\"shape_LeastAxisLength\": 0.46835161250614643}, {\"shape_LeastAxisLength\": -1.0846269077910835}, {\"shape_LeastAxisLength\": -1.3882252954275474}, {\"shape_LeastAxisLength\": -0.36564917965159727}, {\"shape_LeastAxisLength\": 0.7770607231828653}, {\"shape_LeastAxisLength\": -1.030512238303923}, {\"shape_LeastAxisLength\": 0.15965678792216553}, {\"shape_LeastAxisLength\": -1.1461011364741933}, {\"shape_LeastAxisLength\": -0.5442555774504387}, {\"shape_LeastAxisLength\": -0.04218791975217932}, {\"shape_LeastAxisLength\": 0.2402036559533867}, {\"shape_LeastAxisLength\": 0.7136130940896723}, {\"shape_LeastAxisLength\": 1.1808067568764036}, {\"shape_LeastAxisLength\": 0.23885350351872423}, {\"shape_LeastAxisLength\": 1.272380634378778}, {\"shape_LeastAxisLength\": -0.26970809429810316}, {\"shape_LeastAxisLength\": 0.14171352382734081}, {\"shape_LeastAxisLength\": -1.6726677089852504}, {\"shape_LeastAxisLength\": -0.05353528352116703}, {\"shape_LeastAxisLength\": 0.4539818409081467}, {\"shape_LeastAxisLength\": 0.9451012016111167}, {\"shape_LeastAxisLength\": 0.3935260488305814}, {\"shape_LeastAxisLength\": 0.23852546895664317}, {\"shape_LeastAxisLength\": 0.020255104536010766}, {\"shape_LeastAxisLength\": -0.4820875528815787}, {\"shape_LeastAxisLength\": 0.8823098310473437}, {\"shape_LeastAxisLength\": -0.5368414995078848}]}}, {\"mode\": \"vega-lite\"});\n",
       "</script>"
      ],
      "text/plain": [
       "alt.Chart(...)"
      ]
     },
     "metadata": {},
     "output_type": "display_data"
    }
   ],
   "source": [
    "std_scaler = StandardScaler()\n",
    "\n",
    "training_data_numerical = training_data.select(pl.col(pl.Float64))\n",
    "training_data_numerical_scaled = std_scaler.fit_transform(training_data_numerical)\n",
    "training_data_numerical_scaled = pl.DataFrame(\n",
    "    training_data_numerical_scaled, schema=training_data_numerical.columns\n",
    ")\n",
    "\n",
    "max_features_to_plot = 3\n",
    "for feature in training_data_numerical_scaled.columns[:max_features_to_plot]:\n",
    "    training_data_numerical_scaled[feature].plot.hist().show()"
   ]
  },
  {
   "cell_type": "code",
   "execution_count": null,
   "id": "25bbac8a",
   "metadata": {},
   "outputs": [],
   "source": []
  }
 ],
 "metadata": {
  "kernelspec": {
   "display_name": "ml-radiomics-classification",
   "language": "python",
   "name": "python3"
  },
  "language_info": {
   "codemirror_mode": {
    "name": "ipython",
    "version": 3
   },
   "file_extension": ".py",
   "mimetype": "text/x-python",
   "name": "python",
   "nbconvert_exporter": "python",
   "pygments_lexer": "ipython3",
   "version": "3.13.3"
  }
 },
 "nbformat": 4,
 "nbformat_minor": 5
}
