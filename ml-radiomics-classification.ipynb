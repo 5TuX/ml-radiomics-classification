{
 "cells": [
  {
   "cell_type": "code",
   "execution_count": null,
   "id": "a1c1c6b5",
   "metadata": {},
   "outputs": [],
   "source": [
    "# Download the repository from github\n",
    "!git clone https://github.com/5TuX/ml-radiomics-classification.git\n",
    "%cd ml-radiomics-classification"
   ]
  },
  {
   "cell_type": "code",
   "execution_count": null,
   "id": "c4a86205",
   "metadata": {},
   "outputs": [],
   "source": [
    "# Install dependencies with uv\n",
    "!curl -LsSf https://astral.sh/uv/install.sh | sh\n",
    "import os\n",
    "\n",
    "os.environ[\"PATH\"] = f\"/root/.cargo/bin:{os.environ['PATH']}\"\n",
    "!uv sync"
   ]
  },
  {
   "cell_type": "code",
   "execution_count": null,
   "id": "6ae65bb4",
   "metadata": {},
   "outputs": [],
   "source": [
    "# Try opening a simple text file from the repo\n",
    "with open(\"data/test.txt\", \"r\") as text_file:\n",
    "    text = text_file.read()\n",
    "print(text)"
   ]
  }
 ],
 "metadata": {
  "kernelspec": {
   "display_name": "ml-radiomics-classification",
   "language": "python",
   "name": "python3"
  },
  "language_info": {
   "codemirror_mode": {
    "name": "ipython",
    "version": 3
   },
   "file_extension": ".py",
   "mimetype": "text/x-python",
   "name": "python",
   "nbconvert_exporter": "python",
   "pygments_lexer": "ipython3",
   "version": "3.13.3"
  }
 },
 "nbformat": 4,
 "nbformat_minor": 5
}
